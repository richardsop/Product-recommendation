{
 "cells": [
  {
   "cell_type": "code",
   "execution_count": 2,
   "metadata": {
    "collapsed": false
   },
   "outputs": [],
   "source": [
    "import pandas as pd\n",
    "from sklearn import cross_validation\n",
    "%matplotlib inline"
   ]
  },
  {
   "cell_type": "code",
   "execution_count": 3,
   "metadata": {
    "collapsed": false
   },
   "outputs": [],
   "source": [
    "train = pd.read_csv(\"alljoined15kinteraction2_1_encodedarf2_3_1_OneValueRange2.csv\", quoting=0, header=0, delimiter=\",\")"
   ]
  },
  {
   "cell_type": "code",
   "execution_count": 4,
   "metadata": {
    "collapsed": false
   },
   "outputs": [
    {
     "data": {
      "text/plain": [
       "C_3\n",
       "1.5     11785\n",
       "4.5      2505\n",
       "85.0     1108\n",
       "dtype: int64"
      ]
     },
     "execution_count": 4,
     "metadata": {},
     "output_type": "execute_result"
    }
   ],
   "source": [
    "train.groupby(\"C_3\").size()"
   ]
  },
  {
   "cell_type": "code",
   "execution_count": 5,
   "metadata": {
    "collapsed": false
   },
   "outputs": [],
   "source": [
    "co = train.loc[train['C_3'].isin([\"1.5\"])]"
   ]
  },
  {
   "cell_type": "code",
   "execution_count": null,
   "metadata": {
    "collapsed": true
   },
   "outputs": [],
   "source": []
  },
  {
   "cell_type": "code",
   "execution_count": null,
   "metadata": {
    "collapsed": true
   },
   "outputs": [],
   "source": []
  },
  {
   "cell_type": "code",
   "execution_count": null,
   "metadata": {
    "collapsed": true
   },
   "outputs": [],
   "source": []
  },
  {
   "cell_type": "code",
   "execution_count": null,
   "metadata": {
    "collapsed": true
   },
   "outputs": [],
   "source": []
  },
  {
   "cell_type": "code",
   "execution_count": null,
   "metadata": {
    "collapsed": true
   },
   "outputs": [],
   "source": []
  },
  {
   "cell_type": "code",
   "execution_count": null,
   "metadata": {
    "collapsed": true
   },
   "outputs": [],
   "source": []
  },
  {
   "cell_type": "code",
   "execution_count": null,
   "metadata": {
    "collapsed": true
   },
   "outputs": [],
   "source": []
  },
  {
   "cell_type": "code",
   "execution_count": 4,
   "metadata": {
    "collapsed": false
   },
   "outputs": [
    {
     "data": {
      "text/plain": [
       "Index([u'Event_id', u'Start_time', u'City', u'State', u'Country', u'Lat',\n",
       "       u'Lng', u'C_1', u'C_2', u'C_3', \n",
       "       ...\n",
       "       u'Invited', u'Timestamp', u'Not_interested', u'Locale', u'Birthyear',\n",
       "       u'Gender', u'JoinedAt', u'Location', u'Timezone', u'Interested'],\n",
       "      dtype='object', length=119)"
      ]
     },
     "execution_count": 4,
     "metadata": {},
     "output_type": "execute_result"
    }
   ],
   "source": [
    "train.columns"
   ]
  },
  {
   "cell_type": "code",
   "execution_count": 5,
   "metadata": {
    "collapsed": false
   },
   "outputs": [],
   "source": [
    "ctrain = train[[\"User_id\",\"Start_time\",\"City\",\"State\",\"Country\",\"Lat\",\"Lng\",\"C_1\",\"C_2\",\"C_3\",\"C_4\",\"C_5\",\"C_6\",\"C_7\",\"C_8\",\"C_9\",\"C_10\",\"C_11\",\"C_12\",\"C_13\",\"C_14\",\"C_15\",\"C_16\",\"C_17\",\"C_18\",\"C_19\",\"C_20\",\"C_21\",\"C_22\",\"C_23\",\"C_24\",\"C_25\",\"C_26\",\"C_27\",\"C_28\",\"C_29\",\"C_30\",\"C_31\",\"C_32\",\"C_33\",\"C_34\",\"C_35\",\"C_36\",\"C_37\",\"C_38\",\"C_39\",\"C_40\",\"C_41\",\"C_42\",\"C_43\",\"C_44\",\"C_45\",\"C_46\",\"C_47\",\"C_48\",\"C_49\",\"C_50\",\"C_51\",\"C_52\",\"C_53\",\"C_54\",\"C_55\",\"C_56\",\"C_57\",\"C_58\",\"C_59\",\"C_60\",\"C_61\",\"C_62\",\"C_63\",\"C_64\",\"C_65\",\"C_66\",\"C_67\",\"C_68\",\"C_69\",\"C_70\",\"C_71\",\"C_72\",\"C_73\",\"C_74\",\"C_75\",\"C_76\",\"C_77\",\"C_78\",\"C_79\",\"C_80\",\"C_81\",\"C_82\",\"C_83\",\"C_84\",\"C_85\",\"C_86\",\"C_87\",\"C_88\",\"C_89\",\"C_90\",\"C_91\",\"C_92\",\"C_93\",\"C_94\",\"C_95\",\"C_96\",\"C_97\",\"C_98\",\"C_99\",\"C_100\",\"C_other\",\"Locale\",\"Birthyear\",\"Gender\",\"JoinedAt\",\"Location\",\"Timezone\",\"Invited\",\"Timestamp\",\"Interested\",\"Not_interested\"]]"
   ]
  },
  {
   "cell_type": "code",
   "execution_count": null,
   "metadata": {
    "collapsed": true
   },
   "outputs": [],
   "source": []
  },
  {
   "cell_type": "code",
   "execution_count": 7,
   "metadata": {
    "collapsed": true
   },
   "outputs": [],
   "source": [
    "#ctrain = train[[\"event_id\",\"user_id\",\"start_time\",\"city\",\"state\",\"zip\",\"country\",\"lat\",\"lng\",\"c_1\",\"c_2\",\"c_3\",\"c_4\",\"c_5\",\"c_6\",\"c_7\",\"c_8\",\"c_9\",\"c_10\",\"c_11\",\"c_12\",\"c_13\",\"c_14\",\"c_15\",\"c_16\",\"c_17\",\"c_18\",\"c_19\",\"c_20\",\"c_21\",\"c_22\",\"c_23\",\"c_24\",\"c_25\",\"c_26\",\"c_27\",\"c_28\",\"c_29\",\"c_30\",\"c_31\",\"c_32\",\"c_33\",\"c_34\",\"c_35\",\"c_36\",\"c_37\",\"c_38\",\"c_39\",\"c_40\",\"c_41\",\"c_42\",\"c_43\",\"c_44\",\"c_45\",\"c_46\",\"c_47\",\"c_48\",\"c_49\",\"c_50\",\"c_51\",\"c_52\",\"c_53\",\"c_54\",\"c_55\",\"c_56\",\"c_57\",\"c_58\",\"c_59\",\"c_60\",\"c_61\",\"c_62\",\"c_63\",\"c_64\",\"c_65\",\"c_66\",\"c_67\",\"c_68\",\"c_69\",\"c_70\",\"c_71\",\"c_72\",\"c_73\",\"c_74\",\"c_75\",\"c_76\",\"c_77\",\"c_78\",\"c_79\",\"c_80\",\"c_81\",\"c_82\",\"c_83\",\"c_84\",\"c_85\",\"c_86\",\"c_87\",\"c_88\",\"c_89\",\"c_90\",\"c_91\",\"c_92\",\"c_93\",\"c_94\",\"c_95\",\"c_96\",\"c_97\",\"c_98\",\"c_99\",\"c_100\",\"c_other\",\"locale\",\"birthyear\",\"gender\",\"joinedAt\",\"location\",\"timezone\",\"invited\",\"timestamp\",\"interested\",\"not_interested\"]]"
   ]
  },
  {
   "cell_type": "code",
   "execution_count": null,
   "metadata": {
    "collapsed": true
   },
   "outputs": [],
   "source": []
  },
  {
   "cell_type": "code",
   "execution_count": null,
   "metadata": {
    "collapsed": true
   },
   "outputs": [],
   "source": []
  },
  {
   "cell_type": "code",
   "execution_count": null,
   "metadata": {
    "collapsed": true
   },
   "outputs": [],
   "source": []
  },
  {
   "cell_type": "code",
   "execution_count": 6,
   "metadata": {
    "collapsed": true
   },
   "outputs": [],
   "source": [
    "y = train[\"Event_id\"]"
   ]
  },
  {
   "cell_type": "code",
   "execution_count": 7,
   "metadata": {
    "collapsed": false
   },
   "outputs": [],
   "source": [
    "X_train, X_test, y_train, y_test = cross_validation.train_test_split(ctrain, y, test_size=0.2, random_state=0)"
   ]
  },
  {
   "cell_type": "code",
   "execution_count": 8,
   "metadata": {
    "collapsed": false
   },
   "outputs": [],
   "source": [
    "X_train.to_csv(\"X_trainN.csv\", index= False)"
   ]
  },
  {
   "cell_type": "code",
   "execution_count": 9,
   "metadata": {
    "collapsed": true
   },
   "outputs": [],
   "source": [
    "X_test.to_csv(\"X_testN.csv\", index= False)"
   ]
  },
  {
   "cell_type": "code",
   "execution_count": 10,
   "metadata": {
    "collapsed": true
   },
   "outputs": [],
   "source": [
    "y_test.to_csv(\"y_testN.csv\", index= False)"
   ]
  },
  {
   "cell_type": "code",
   "execution_count": 11,
   "metadata": {
    "collapsed": true
   },
   "outputs": [],
   "source": [
    "y_train.to_csv(\"y_trainN.csv\", index= False)"
   ]
  },
  {
   "cell_type": "code",
   "execution_count": 20,
   "metadata": {
    "collapsed": false
   },
   "outputs": [
    {
     "data": {
      "text/html": [
       "<div>\n",
       "<table border=\"1\" class=\"dataframe\">\n",
       "  <thead>\n",
       "    <tr style=\"text-align: right;\">\n",
       "      <th></th>\n",
       "      <th>event_id</th>\n",
       "      <th>user_id</th>\n",
       "      <th>start_time</th>\n",
       "      <th>city</th>\n",
       "      <th>state</th>\n",
       "      <th>zip</th>\n",
       "      <th>country</th>\n",
       "      <th>lat</th>\n",
       "      <th>lng</th>\n",
       "      <th>c_1</th>\n",
       "      <th>...</th>\n",
       "      <th>locale</th>\n",
       "      <th>birthyear</th>\n",
       "      <th>gender</th>\n",
       "      <th>joinedAt</th>\n",
       "      <th>location</th>\n",
       "      <th>timezone</th>\n",
       "      <th>invited</th>\n",
       "      <th>timestamp</th>\n",
       "      <th>interested</th>\n",
       "      <th>not_interested</th>\n",
       "    </tr>\n",
       "  </thead>\n",
       "  <tbody>\n",
       "    <tr>\n",
       "      <th>1041</th>\n",
       "      <td>2114238114</td>\n",
       "      <td>4057602883</td>\n",
       "      <td>2012-12-14T05:30:00.003Z</td>\n",
       "      <td>San Francisco</td>\n",
       "      <td>CA</td>\n",
       "      <td>94110</td>\n",
       "      <td>United States</td>\n",
       "      <td>37.760</td>\n",
       "      <td>-122.419</td>\n",
       "      <td>2</td>\n",
       "      <td>...</td>\n",
       "      <td>en_US</td>\n",
       "      <td>1968</td>\n",
       "      <td>male</td>\n",
       "      <td>2012-10-04T22:36:40.905Z</td>\n",
       "      <td>Oakland  California</td>\n",
       "      <td>-480</td>\n",
       "      <td>0</td>\n",
       "      <td>2012-10-04 22:42:31.941000+00:00</td>\n",
       "      <td>1</td>\n",
       "      <td>0</td>\n",
       "    </tr>\n",
       "    <tr>\n",
       "      <th>492</th>\n",
       "      <td>1618226807</td>\n",
       "      <td>2895220130</td>\n",
       "      <td>2012-09-15T01:00:00.003Z</td>\n",
       "      <td>Toronto</td>\n",
       "      <td>ON</td>\n",
       "      <td>NaN</td>\n",
       "      <td>Canada</td>\n",
       "      <td>43.655</td>\n",
       "      <td>-79.419</td>\n",
       "      <td>5</td>\n",
       "      <td>...</td>\n",
       "      <td>en_US</td>\n",
       "      <td>1979</td>\n",
       "      <td>male</td>\n",
       "      <td>2012-06-27T01:15:24.233Z</td>\n",
       "      <td>NaN</td>\n",
       "      <td>-240</td>\n",
       "      <td>0</td>\n",
       "      <td>2012-07-18 15:56:42.719000+00:00</td>\n",
       "      <td>0</td>\n",
       "      <td>0</td>\n",
       "    </tr>\n",
       "    <tr>\n",
       "      <th>789</th>\n",
       "      <td>1728231357</td>\n",
       "      <td>2903662804</td>\n",
       "      <td>2012-10-27T19:00:00.003Z</td>\n",
       "      <td>San Francisco</td>\n",
       "      <td>CA</td>\n",
       "      <td>NaN</td>\n",
       "      <td>United States</td>\n",
       "      <td>37.762</td>\n",
       "      <td>-122.419</td>\n",
       "      <td>6</td>\n",
       "      <td>...</td>\n",
       "      <td>en_US</td>\n",
       "      <td>1981</td>\n",
       "      <td>female</td>\n",
       "      <td>2012-06-28T04:44:44.577Z</td>\n",
       "      <td>NaN</td>\n",
       "      <td>-480</td>\n",
       "      <td>0</td>\n",
       "      <td>2012-10-26 01:27:48.632000+00:00</td>\n",
       "      <td>0</td>\n",
       "      <td>0</td>\n",
       "    </tr>\n",
       "    <tr>\n",
       "      <th>557</th>\n",
       "      <td>935838961</td>\n",
       "      <td>3621549603</td>\n",
       "      <td>2012-03-15T22:00:00.000Z</td>\n",
       "      <td>NaN</td>\n",
       "      <td>NaN</td>\n",
       "      <td>NaN</td>\n",
       "      <td>NaN</td>\n",
       "      <td>NaN</td>\n",
       "      <td>NaN</td>\n",
       "      <td>0</td>\n",
       "      <td>...</td>\n",
       "      <td>en_US</td>\n",
       "      <td>1928</td>\n",
       "      <td>male</td>\n",
       "      <td>2012-07-31T17:32:32.552Z</td>\n",
       "      <td>NaN</td>\n",
       "      <td>-300</td>\n",
       "      <td>0</td>\n",
       "      <td>2012-11-21 15:35:09.900000+00:00</td>\n",
       "      <td>0</td>\n",
       "      <td>0</td>\n",
       "    </tr>\n",
       "    <tr>\n",
       "      <th>722</th>\n",
       "      <td>1728231357</td>\n",
       "      <td>2903662804</td>\n",
       "      <td>2012-10-27T19:00:00.003Z</td>\n",
       "      <td>San Francisco</td>\n",
       "      <td>CA</td>\n",
       "      <td>NaN</td>\n",
       "      <td>United States</td>\n",
       "      <td>37.762</td>\n",
       "      <td>-122.419</td>\n",
       "      <td>6</td>\n",
       "      <td>...</td>\n",
       "      <td>en_US</td>\n",
       "      <td>1981</td>\n",
       "      <td>female</td>\n",
       "      <td>2012-06-28T04:44:44.577Z</td>\n",
       "      <td>NaN</td>\n",
       "      <td>-480</td>\n",
       "      <td>0</td>\n",
       "      <td>2012-12-06 20:15:50.514000+00:00</td>\n",
       "      <td>0</td>\n",
       "      <td>0</td>\n",
       "    </tr>\n",
       "  </tbody>\n",
       "</table>\n",
       "<p>5 rows × 120 columns</p>\n",
       "</div>"
      ],
      "text/plain": [
       "        event_id     user_id                start_time           city state  \\\n",
       "1041  2114238114  4057602883  2012-12-14T05:30:00.003Z  San Francisco    CA   \n",
       "492   1618226807  2895220130  2012-09-15T01:00:00.003Z        Toronto    ON   \n",
       "789   1728231357  2903662804  2012-10-27T19:00:00.003Z  San Francisco    CA   \n",
       "557    935838961  3621549603  2012-03-15T22:00:00.000Z            NaN   NaN   \n",
       "722   1728231357  2903662804  2012-10-27T19:00:00.003Z  San Francisco    CA   \n",
       "\n",
       "        zip        country     lat      lng  c_1       ...        locale  \\\n",
       "1041  94110  United States  37.760 -122.419    2       ...         en_US   \n",
       "492     NaN         Canada  43.655  -79.419    5       ...         en_US   \n",
       "789     NaN  United States  37.762 -122.419    6       ...         en_US   \n",
       "557     NaN            NaN     NaN      NaN    0       ...         en_US   \n",
       "722     NaN  United States  37.762 -122.419    6       ...         en_US   \n",
       "\n",
       "      birthyear  gender                  joinedAt             location  \\\n",
       "1041       1968    male  2012-10-04T22:36:40.905Z  Oakland  California   \n",
       "492        1979    male  2012-06-27T01:15:24.233Z                  NaN   \n",
       "789        1981  female  2012-06-28T04:44:44.577Z                  NaN   \n",
       "557        1928    male  2012-07-31T17:32:32.552Z                  NaN   \n",
       "722        1981  female  2012-06-28T04:44:44.577Z                  NaN   \n",
       "\n",
       "      timezone  invited                         timestamp  interested  \\\n",
       "1041      -480        0  2012-10-04 22:42:31.941000+00:00           1   \n",
       "492       -240        0  2012-07-18 15:56:42.719000+00:00           0   \n",
       "789       -480        0  2012-10-26 01:27:48.632000+00:00           0   \n",
       "557       -300        0  2012-11-21 15:35:09.900000+00:00           0   \n",
       "722       -480        0  2012-12-06 20:15:50.514000+00:00           0   \n",
       "\n",
       "      not_interested  \n",
       "1041               0  \n",
       "492                0  \n",
       "789                0  \n",
       "557                0  \n",
       "722                0  \n",
       "\n",
       "[5 rows x 120 columns]"
      ]
     },
     "execution_count": 20,
     "metadata": {},
     "output_type": "execute_result"
    }
   ],
   "source": [
    "X_train.head()"
   ]
  },
  {
   "cell_type": "code",
   "execution_count": 21,
   "metadata": {
    "collapsed": false
   },
   "outputs": [
    {
     "data": {
      "text/html": [
       "<div>\n",
       "<table border=\"1\" class=\"dataframe\">\n",
       "  <thead>\n",
       "    <tr style=\"text-align: right;\">\n",
       "      <th></th>\n",
       "      <th>event_id</th>\n",
       "      <th>user_id</th>\n",
       "      <th>start_time</th>\n",
       "      <th>city</th>\n",
       "      <th>state</th>\n",
       "      <th>zip</th>\n",
       "      <th>country</th>\n",
       "      <th>lat</th>\n",
       "      <th>lng</th>\n",
       "      <th>c_1</th>\n",
       "      <th>...</th>\n",
       "      <th>locale</th>\n",
       "      <th>birthyear</th>\n",
       "      <th>gender</th>\n",
       "      <th>joinedAt</th>\n",
       "      <th>location</th>\n",
       "      <th>timezone</th>\n",
       "      <th>invited</th>\n",
       "      <th>timestamp</th>\n",
       "      <th>interested</th>\n",
       "      <th>not_interested</th>\n",
       "    </tr>\n",
       "  </thead>\n",
       "  <tbody>\n",
       "    <tr>\n",
       "      <th>1066</th>\n",
       "      <td>2959780535</td>\n",
       "      <td>3221698850</td>\n",
       "      <td>2012-10-27T11:00:00.000Z</td>\n",
       "      <td>Mississauga</td>\n",
       "      <td>ON</td>\n",
       "      <td>NaN</td>\n",
       "      <td>Canada</td>\n",
       "      <td>43.703</td>\n",
       "      <td>-79.637</td>\n",
       "      <td>0</td>\n",
       "      <td>...</td>\n",
       "      <td>en_US</td>\n",
       "      <td>1982</td>\n",
       "      <td>female</td>\n",
       "      <td>2012-07-14T18:01:43.039Z</td>\n",
       "      <td>NaN</td>\n",
       "      <td>-240</td>\n",
       "      <td>1</td>\n",
       "      <td>2012-08-11 13:35:05.398000+00:00</td>\n",
       "      <td>0</td>\n",
       "      <td>0</td>\n",
       "    </tr>\n",
       "    <tr>\n",
       "      <th>549</th>\n",
       "      <td>2349996208</td>\n",
       "      <td>1120323401</td>\n",
       "      <td>2012-09-28T12:00:00.003Z</td>\n",
       "      <td>City of Sydney</td>\n",
       "      <td>NSW</td>\n",
       "      <td>NaN</td>\n",
       "      <td>Australia</td>\n",
       "      <td>-33.869</td>\n",
       "      <td>151.203</td>\n",
       "      <td>5</td>\n",
       "      <td>...</td>\n",
       "      <td>en_US</td>\n",
       "      <td>1994</td>\n",
       "      <td>male</td>\n",
       "      <td>2012-10-14T11:29:46.174Z</td>\n",
       "      <td>North Richmond  New South Wales  Australia</td>\n",
       "      <td>660</td>\n",
       "      <td>0</td>\n",
       "      <td>2012-10-14 11:32:02.441000+00:00</td>\n",
       "      <td>0</td>\n",
       "      <td>0</td>\n",
       "    </tr>\n",
       "    <tr>\n",
       "      <th>103</th>\n",
       "      <td>3309372398</td>\n",
       "      <td>3591151863</td>\n",
       "      <td>2012-09-09T03:00:00.003Z</td>\n",
       "      <td>Tempe</td>\n",
       "      <td>AZ</td>\n",
       "      <td>NaN</td>\n",
       "      <td>United States</td>\n",
       "      <td>33.425</td>\n",
       "      <td>-111.940</td>\n",
       "      <td>1</td>\n",
       "      <td>...</td>\n",
       "      <td>en_US</td>\n",
       "      <td>1982</td>\n",
       "      <td>male</td>\n",
       "      <td>2012-09-20T03:28:07.285Z</td>\n",
       "      <td>Mesa  Arizona</td>\n",
       "      <td>-420</td>\n",
       "      <td>0</td>\n",
       "      <td>2012-09-20 03:29:18.380000+00:00</td>\n",
       "      <td>1</td>\n",
       "      <td>0</td>\n",
       "    </tr>\n",
       "    <tr>\n",
       "      <th>759</th>\n",
       "      <td>1728231357</td>\n",
       "      <td>2903662804</td>\n",
       "      <td>2012-10-27T19:00:00.003Z</td>\n",
       "      <td>San Francisco</td>\n",
       "      <td>CA</td>\n",
       "      <td>NaN</td>\n",
       "      <td>United States</td>\n",
       "      <td>37.762</td>\n",
       "      <td>-122.419</td>\n",
       "      <td>6</td>\n",
       "      <td>...</td>\n",
       "      <td>en_US</td>\n",
       "      <td>1981</td>\n",
       "      <td>female</td>\n",
       "      <td>2012-06-28T04:44:44.577Z</td>\n",
       "      <td>NaN</td>\n",
       "      <td>-480</td>\n",
       "      <td>0</td>\n",
       "      <td>2012-07-30 18:23:07.401000+00:00</td>\n",
       "      <td>0</td>\n",
       "      <td>0</td>\n",
       "    </tr>\n",
       "    <tr>\n",
       "      <th>453</th>\n",
       "      <td>666101022</td>\n",
       "      <td>4261340176</td>\n",
       "      <td>2012-07-15T01:00:00.000Z</td>\n",
       "      <td>San Francisco</td>\n",
       "      <td>CA</td>\n",
       "      <td>NaN</td>\n",
       "      <td>United States</td>\n",
       "      <td>37.783</td>\n",
       "      <td>-122.396</td>\n",
       "      <td>1</td>\n",
       "      <td>...</td>\n",
       "      <td>en_US</td>\n",
       "      <td>1982</td>\n",
       "      <td>male</td>\n",
       "      <td>2012-10-06T19:09:10.742Z</td>\n",
       "      <td>San Francisco  California</td>\n",
       "      <td>-420</td>\n",
       "      <td>0</td>\n",
       "      <td>2012-10-06 19:10:09.689000+00:00</td>\n",
       "      <td>1</td>\n",
       "      <td>0</td>\n",
       "    </tr>\n",
       "  </tbody>\n",
       "</table>\n",
       "<p>5 rows × 120 columns</p>\n",
       "</div>"
      ],
      "text/plain": [
       "        event_id     user_id                start_time            city state  \\\n",
       "1066  2959780535  3221698850  2012-10-27T11:00:00.000Z     Mississauga    ON   \n",
       "549   2349996208  1120323401  2012-09-28T12:00:00.003Z  City of Sydney   NSW   \n",
       "103   3309372398  3591151863  2012-09-09T03:00:00.003Z           Tempe    AZ   \n",
       "759   1728231357  2903662804  2012-10-27T19:00:00.003Z   San Francisco    CA   \n",
       "453    666101022  4261340176  2012-07-15T01:00:00.000Z   San Francisco    CA   \n",
       "\n",
       "      zip        country     lat      lng  c_1       ...        locale  \\\n",
       "1066  NaN         Canada  43.703  -79.637    0       ...         en_US   \n",
       "549   NaN      Australia -33.869  151.203    5       ...         en_US   \n",
       "103   NaN  United States  33.425 -111.940    1       ...         en_US   \n",
       "759   NaN  United States  37.762 -122.419    6       ...         en_US   \n",
       "453   NaN  United States  37.783 -122.396    1       ...         en_US   \n",
       "\n",
       "      birthyear  gender                  joinedAt  \\\n",
       "1066       1982  female  2012-07-14T18:01:43.039Z   \n",
       "549        1994    male  2012-10-14T11:29:46.174Z   \n",
       "103        1982    male  2012-09-20T03:28:07.285Z   \n",
       "759        1981  female  2012-06-28T04:44:44.577Z   \n",
       "453        1982    male  2012-10-06T19:09:10.742Z   \n",
       "\n",
       "                                        location  timezone  invited  \\\n",
       "1066                                         NaN      -240        1   \n",
       "549   North Richmond  New South Wales  Australia       660        0   \n",
       "103                                Mesa  Arizona      -420        0   \n",
       "759                                          NaN      -480        0   \n",
       "453                    San Francisco  California      -420        0   \n",
       "\n",
       "                             timestamp  interested  not_interested  \n",
       "1066  2012-08-11 13:35:05.398000+00:00           0               0  \n",
       "549   2012-10-14 11:32:02.441000+00:00           0               0  \n",
       "103   2012-09-20 03:29:18.380000+00:00           1               0  \n",
       "759   2012-07-30 18:23:07.401000+00:00           0               0  \n",
       "453   2012-10-06 19:10:09.689000+00:00           1               0  \n",
       "\n",
       "[5 rows x 120 columns]"
      ]
     },
     "execution_count": 21,
     "metadata": {},
     "output_type": "execute_result"
    }
   ],
   "source": [
    "X_test.head()"
   ]
  },
  {
   "cell_type": "code",
   "execution_count": 22,
   "metadata": {
    "collapsed": false
   },
   "outputs": [
    {
     "data": {
      "text/plain": [
       "1041      12241688\n",
       "492      518779164\n",
       "789      874736953\n",
       "557      435263339\n",
       "722     2512540415\n",
       "251      711971335\n",
       "312      436651588\n",
       "77      3266986323\n",
       "944     2224372535\n",
       "264      939509575\n",
       "478     3694263991\n",
       "898     3788868841\n",
       "725     2062625787\n",
       "268     3770539193\n",
       "431     2490299454\n",
       "687     3669299967\n",
       "240     1653016455\n",
       "758     3996301727\n",
       "655     2862031808\n",
       "929     1159050153\n",
       "841     3335940486\n",
       "792      788496445\n",
       "654     1999674603\n",
       "679     1164122688\n",
       "818     3036332464\n",
       "625     2998958650\n",
       "141     2058886809\n",
       "311     2214787713\n",
       "5       1163018914\n",
       "482      566408952\n",
       "           ...    \n",
       "697     1728231357\n",
       "423     2902416704\n",
       "910      366912974\n",
       "659      372148582\n",
       "797     2770928885\n",
       "1047    3987699038\n",
       "99        46008403\n",
       "850     1056011812\n",
       "448      170930739\n",
       "755     2507770632\n",
       "976      490590226\n",
       "115      485696274\n",
       "777     1728231357\n",
       "72      1600849184\n",
       "845      194287425\n",
       "537     1080582769\n",
       "849      287440303\n",
       "174     2750641926\n",
       "87       712219219\n",
       "551     3304837598\n",
       "705     2971360373\n",
       "314      711971335\n",
       "600     2423374959\n",
       "599      760152605\n",
       "277      436651588\n",
       "1033    2204967448\n",
       "763     1164122688\n",
       "835     3335940486\n",
       "559     2421272892\n",
       "684      731713663\n",
       "Name: event, dtype: int64"
      ]
     },
     "execution_count": 22,
     "metadata": {},
     "output_type": "execute_result"
    }
   ],
   "source": [
    " y_train"
   ]
  },
  {
   "cell_type": "code",
   "execution_count": 23,
   "metadata": {
    "collapsed": false
   },
   "outputs": [
    {
     "data": {
      "text/plain": [
       "1066    3364940341\n",
       "549     4022161844\n",
       "103     3023628065\n",
       "759     3996301727\n",
       "453     3640265762\n",
       "278      939509575\n",
       "787      307263394\n",
       "533     3345225671\n",
       "604     1886391531\n",
       "913     2622473733\n",
       "863     1471977551\n",
       "31      2190223358\n",
       "808      340072523\n",
       "27      3545475739\n",
       "857     2955724234\n",
       "693     3576424973\n",
       "1067     567626291\n",
       "249      436651588\n",
       "680     3693943691\n",
       "700     2236462300\n",
       "826     3701547443\n",
       "927     1773358985\n",
       "823     3610133881\n",
       "1000    3873935598\n",
       "596      812528842\n",
       "1024    1370522761\n",
       "1003    3798981472\n",
       "732     2219009935\n",
       "859     4029785203\n",
       "605      435263339\n",
       "           ...    \n",
       "471     2042030195\n",
       "15       483490410\n",
       "761      647011225\n",
       "945     3611263082\n",
       "399     1582270949\n",
       "175     3247396557\n",
       "413      771676713\n",
       "395      115584728\n",
       "876     4110062919\n",
       "486     3008955247\n",
       "1017     148481382\n",
       "805     2548777291\n",
       "561     3889821387\n",
       "971     2091251917\n",
       "283     2214787713\n",
       "45      3632963428\n",
       "924     3659345285\n",
       "142     3931609399\n",
       "1018    4294101061\n",
       "915     3448037031\n",
       "995      539541742\n",
       "55      3105234108\n",
       "85       485696274\n",
       "836     4027073137\n",
       "500     3455574126\n",
       "1011    3453000167\n",
       "822     4110062919\n",
       "685      874736953\n",
       "871     2683829848\n",
       "583     2421272892\n",
       "Name: event, dtype: int64"
      ]
     },
     "execution_count": 23,
     "metadata": {},
     "output_type": "execute_result"
    }
   ],
   "source": [
    "y_test"
   ]
  },
  {
   "cell_type": "code",
   "execution_count": 24,
   "metadata": {
    "collapsed": false
   },
   "outputs": [
    {
     "data": {
      "text/plain": [
       "(107L,)"
      ]
     },
     "execution_count": 24,
     "metadata": {},
     "output_type": "execute_result"
    }
   ],
   "source": [
    "y_test.shape"
   ]
  },
  {
   "cell_type": "code",
   "execution_count": null,
   "metadata": {
    "collapsed": true
   },
   "outputs": [],
   "source": []
  }
 ],
 "metadata": {
  "kernelspec": {
   "display_name": "Python 2",
   "language": "python",
   "name": "python2"
  },
  "language_info": {
   "codemirror_mode": {
    "name": "ipython",
    "version": 2
   },
   "file_extension": ".py",
   "mimetype": "text/x-python",
   "name": "python",
   "nbconvert_exporter": "python",
   "pygments_lexer": "ipython2",
   "version": "2.7.10"
  }
 },
 "nbformat": 4,
 "nbformat_minor": 0
}
