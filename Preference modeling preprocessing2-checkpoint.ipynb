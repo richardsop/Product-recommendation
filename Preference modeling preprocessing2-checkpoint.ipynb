{
 "cells": [
  {
   "cell_type": "code",
   "execution_count": 2,
   "metadata": {
    "collapsed": true
   },
   "outputs": [],
   "source": [
    "import pandas as pd"
   ]
  },
  {
   "cell_type": "code",
   "execution_count": null,
   "metadata": {
    "collapsed": true
   },
   "outputs": [],
   "source": []
  },
  {
   "cell_type": "code",
   "execution_count": 26,
   "metadata": {
    "collapsed": false
   },
   "outputs": [],
   "source": [
    "eventsjoined = pd.read_csv(\"events_users_interaction_joined.csv\", header=0, quoting=0, delimiter=\",\")"
   ]
  },
  {
   "cell_type": "code",
   "execution_count": 34,
   "metadata": {
    "collapsed": false
   },
   "outputs": [],
   "source": [
    "count = eventsjoined[\"event_id\"].value_counts()"
   ]
  },
  {
   "cell_type": "code",
   "execution_count": 35,
   "metadata": {
    "collapsed": false
   },
   "outputs": [
    {
     "data": {
      "text/plain": [
       "(106L,)"
      ]
     },
     "execution_count": 35,
     "metadata": {},
     "output_type": "execute_result"
    }
   ],
   "source": [
    "count.shape"
   ]
  },
  {
   "cell_type": "code",
   "execution_count": null,
   "metadata": {
    "collapsed": true
   },
   "outputs": [],
   "source": []
  },
  {
   "cell_type": "code",
   "execution_count": null,
   "metadata": {
    "collapsed": true
   },
   "outputs": [],
   "source": []
  },
  {
   "cell_type": "code",
   "execution_count": null,
   "metadata": {
    "collapsed": true
   },
   "outputs": [],
   "source": []
  },
  {
   "cell_type": "code",
   "execution_count": null,
   "metadata": {
    "collapsed": true
   },
   "outputs": [],
   "source": []
  },
  {
   "cell_type": "code",
   "execution_count": null,
   "metadata": {
    "collapsed": true
   },
   "outputs": [],
   "source": []
  },
  {
   "cell_type": "code",
   "execution_count": null,
   "metadata": {
    "collapsed": true
   },
   "outputs": [],
   "source": []
  },
  {
   "cell_type": "code",
   "execution_count": null,
   "metadata": {
    "collapsed": true
   },
   "outputs": [],
   "source": []
  },
  {
   "cell_type": "code",
   "execution_count": 3,
   "metadata": {
    "collapsed": false
   },
   "outputs": [],
   "source": [
    "events = pd.read_csv(\"events.csv\", header=0, quoting=0, delimiter=\",\")"
   ]
  },
  {
   "cell_type": "code",
   "execution_count": 4,
   "metadata": {
    "collapsed": false
   },
   "outputs": [],
   "source": [
    "#events.head(3)"
   ]
  },
  {
   "cell_type": "code",
   "execution_count": 5,
   "metadata": {
    "collapsed": true
   },
   "outputs": [],
   "source": [
    "interaction = pd.read_csv(\"train.csv\", header=0, quoting=0, delimiter=\",\")"
   ]
  },
  {
   "cell_type": "code",
   "execution_count": 6,
   "metadata": {
    "collapsed": false
   },
   "outputs": [],
   "source": [
    "#interaction.head(3)"
   ]
  },
  {
   "cell_type": "code",
   "execution_count": 8,
   "metadata": {
    "collapsed": true
   },
   "outputs": [],
   "source": [
    "user = pd.read_csv(\"users.csv\", header=0, quoting=0, delimiter=\",\")"
   ]
  },
  {
   "cell_type": "code",
   "execution_count": 9,
   "metadata": {
    "collapsed": true
   },
   "outputs": [],
   "source": [
    "test = pd.read_csv(\"test.csv\", header=0, quoting=0, delimiter=\",\")"
   ]
  },
  {
   "cell_type": "code",
   "execution_count": null,
   "metadata": {
    "collapsed": true
   },
   "outputs": [],
   "source": []
  },
  {
   "cell_type": "code",
   "execution_count": null,
   "metadata": {
    "collapsed": true
   },
   "outputs": [],
   "source": []
  },
  {
   "cell_type": "code",
   "execution_count": 21,
   "metadata": {
    "collapsed": false
   },
   "outputs": [
    {
     "data": {
      "text/html": [
       "<div>\n",
       "<table border=\"1\" class=\"dataframe\">\n",
       "  <thead>\n",
       "    <tr style=\"text-align: right;\">\n",
       "      <th></th>\n",
       "      <th>user_id</th>\n",
       "      <th>locale</th>\n",
       "      <th>birthyear</th>\n",
       "      <th>gender</th>\n",
       "      <th>joinedAt</th>\n",
       "      <th>location</th>\n",
       "      <th>timezone</th>\n",
       "    </tr>\n",
       "  </thead>\n",
       "  <tbody>\n",
       "    <tr>\n",
       "      <th>0</th>\n",
       "      <td>3197468391</td>\n",
       "      <td>id_ID</td>\n",
       "      <td>1993</td>\n",
       "      <td>male</td>\n",
       "      <td>2012-10-02T06:40:55.524Z</td>\n",
       "      <td>Medan  Indonesia</td>\n",
       "      <td>480</td>\n",
       "    </tr>\n",
       "    <tr>\n",
       "      <th>1</th>\n",
       "      <td>3537982273</td>\n",
       "      <td>id_ID</td>\n",
       "      <td>1992</td>\n",
       "      <td>male</td>\n",
       "      <td>2012-09-29T18:03:12.111Z</td>\n",
       "      <td>Medan  Indonesia</td>\n",
       "      <td>420</td>\n",
       "    </tr>\n",
       "  </tbody>\n",
       "</table>\n",
       "</div>"
      ],
      "text/plain": [
       "      user_id locale birthyear gender                  joinedAt  \\\n",
       "0  3197468391  id_ID      1993   male  2012-10-02T06:40:55.524Z   \n",
       "1  3537982273  id_ID      1992   male  2012-09-29T18:03:12.111Z   \n",
       "\n",
       "           location  timezone  \n",
       "0  Medan  Indonesia       480  \n",
       "1  Medan  Indonesia       420  "
      ]
     },
     "execution_count": 21,
     "metadata": {},
     "output_type": "execute_result"
    }
   ],
   "source": [
    "user.head(2)"
   ]
  },
  {
   "cell_type": "code",
   "execution_count": 13,
   "metadata": {
    "collapsed": false
   },
   "outputs": [],
   "source": [
    "#user.head(3)"
   ]
  },
  {
   "cell_type": "code",
   "execution_count": 14,
   "metadata": {
    "collapsed": false
   },
   "outputs": [],
   "source": [
    "#result = interaction.join(user, on=['user_id'], how =\"outer\")"
   ]
  },
  {
   "cell_type": "code",
   "execution_count": 15,
   "metadata": {
    "collapsed": false
   },
   "outputs": [],
   "source": [
    "result = events.merge(interaction, on='event_id', how='inner')"
   ]
  },
  {
   "cell_type": "code",
   "execution_count": 16,
   "metadata": {
    "collapsed": false
   },
   "outputs": [
    {
     "data": {
      "text/plain": [
       "(15398, 115)"
      ]
     },
     "execution_count": 16,
     "metadata": {},
     "output_type": "execute_result"
    }
   ],
   "source": [
    "result.shape"
   ]
  },
  {
   "cell_type": "code",
   "execution_count": 23,
   "metadata": {
    "collapsed": false
   },
   "outputs": [
    {
     "data": {
      "text/html": [
       "<div>\n",
       "<table border=\"1\" class=\"dataframe\">\n",
       "  <thead>\n",
       "    <tr style=\"text-align: right;\">\n",
       "      <th></th>\n",
       "      <th>event_id</th>\n",
       "      <th>user_id_x</th>\n",
       "      <th>start_time</th>\n",
       "      <th>city</th>\n",
       "      <th>state</th>\n",
       "      <th>zip</th>\n",
       "      <th>country</th>\n",
       "      <th>lat</th>\n",
       "      <th>lng</th>\n",
       "      <th>c_1</th>\n",
       "      <th>...</th>\n",
       "      <th>c_97</th>\n",
       "      <th>c_98</th>\n",
       "      <th>c_99</th>\n",
       "      <th>c_100</th>\n",
       "      <th>c_other</th>\n",
       "      <th>user_id_y</th>\n",
       "      <th>invited</th>\n",
       "      <th>timestamp</th>\n",
       "      <th>interested</th>\n",
       "      <th>not_interested</th>\n",
       "    </tr>\n",
       "  </thead>\n",
       "  <tbody>\n",
       "    <tr>\n",
       "      <th>15395</th>\n",
       "      <td>3409015015</td>\n",
       "      <td>1019195677</td>\n",
       "      <td>2012-09-28T21:00:00.003Z</td>\n",
       "      <td>Kitchener</td>\n",
       "      <td>ON</td>\n",
       "      <td>NaN</td>\n",
       "      <td>Canada</td>\n",
       "      <td>43.428</td>\n",
       "      <td>-80.434</td>\n",
       "      <td>0</td>\n",
       "      <td>...</td>\n",
       "      <td>0</td>\n",
       "      <td>0</td>\n",
       "      <td>0</td>\n",
       "      <td>0</td>\n",
       "      <td>10</td>\n",
       "      <td>4007830365</td>\n",
       "      <td>0</td>\n",
       "      <td>2012-09-24 17:29:54.064000+00:00</td>\n",
       "      <td>1</td>\n",
       "      <td>0</td>\n",
       "    </tr>\n",
       "    <tr>\n",
       "      <th>15396</th>\n",
       "      <td>3119357029</td>\n",
       "      <td>3318624521</td>\n",
       "      <td>2012-10-31T00:00:00.001Z</td>\n",
       "      <td>London</td>\n",
       "      <td>NaN</td>\n",
       "      <td>NaN</td>\n",
       "      <td>United Kingdom</td>\n",
       "      <td>51.481</td>\n",
       "      <td>-0.191</td>\n",
       "      <td>0</td>\n",
       "      <td>...</td>\n",
       "      <td>0</td>\n",
       "      <td>0</td>\n",
       "      <td>0</td>\n",
       "      <td>0</td>\n",
       "      <td>6</td>\n",
       "      <td>422002690</td>\n",
       "      <td>0</td>\n",
       "      <td>2012-10-30 16:17:18.329000+00:00</td>\n",
       "      <td>1</td>\n",
       "      <td>0</td>\n",
       "    </tr>\n",
       "    <tr>\n",
       "      <th>15397</th>\n",
       "      <td>2736696425</td>\n",
       "      <td>3264288794</td>\n",
       "      <td>2012-10-26T03:00:00.003Z</td>\n",
       "      <td>Los Angeles</td>\n",
       "      <td>CA</td>\n",
       "      <td>NaN</td>\n",
       "      <td>United States</td>\n",
       "      <td>34.041</td>\n",
       "      <td>-118.259</td>\n",
       "      <td>6</td>\n",
       "      <td>...</td>\n",
       "      <td>0</td>\n",
       "      <td>0</td>\n",
       "      <td>0</td>\n",
       "      <td>0</td>\n",
       "      <td>132</td>\n",
       "      <td>41934198</td>\n",
       "      <td>0</td>\n",
       "      <td>2012-10-24 01:28:46.906000+00:00</td>\n",
       "      <td>0</td>\n",
       "      <td>0</td>\n",
       "    </tr>\n",
       "  </tbody>\n",
       "</table>\n",
       "<p>3 rows × 115 columns</p>\n",
       "</div>"
      ],
      "text/plain": [
       "         event_id   user_id_x                start_time         city state  \\\n",
       "15395  3409015015  1019195677  2012-09-28T21:00:00.003Z    Kitchener    ON   \n",
       "15396  3119357029  3318624521  2012-10-31T00:00:00.001Z       London   NaN   \n",
       "15397  2736696425  3264288794  2012-10-26T03:00:00.003Z  Los Angeles    CA   \n",
       "\n",
       "       zip         country     lat      lng  c_1       ...        c_97  c_98  \\\n",
       "15395  NaN          Canada  43.428  -80.434    0       ...           0     0   \n",
       "15396  NaN  United Kingdom  51.481   -0.191    0       ...           0     0   \n",
       "15397  NaN   United States  34.041 -118.259    6       ...           0     0   \n",
       "\n",
       "       c_99  c_100  c_other   user_id_y  invited  \\\n",
       "15395     0      0       10  4007830365        0   \n",
       "15396     0      0        6   422002690        0   \n",
       "15397     0      0      132    41934198        0   \n",
       "\n",
       "                              timestamp  interested  not_interested  \n",
       "15395  2012-09-24 17:29:54.064000+00:00           1               0  \n",
       "15396  2012-10-30 16:17:18.329000+00:00           1               0  \n",
       "15397  2012-10-24 01:28:46.906000+00:00           0               0  \n",
       "\n",
       "[3 rows x 115 columns]"
      ]
     },
     "execution_count": 23,
     "metadata": {},
     "output_type": "execute_result"
    }
   ],
   "source": [
    "result.tail(3)"
   ]
  },
  {
   "cell_type": "code",
   "execution_count": 24,
   "metadata": {
    "collapsed": false
   },
   "outputs": [],
   "source": [
    "#result2 = result.merge(user, on='user_id', how='inner')"
   ]
  },
  {
   "cell_type": "code",
   "execution_count": 40,
   "metadata": {
    "collapsed": false
   },
   "outputs": [
    {
     "data": {
      "text/html": [
       "<div>\n",
       "<table border=\"1\" class=\"dataframe\">\n",
       "  <thead>\n",
       "    <tr style=\"text-align: right;\">\n",
       "      <th></th>\n",
       "      <th>user_id</th>\n",
       "      <th>locale</th>\n",
       "      <th>birthyear</th>\n",
       "      <th>gender</th>\n",
       "      <th>joinedAt</th>\n",
       "      <th>location</th>\n",
       "      <th>timezone</th>\n",
       "      <th>event</th>\n",
       "      <th>invited</th>\n",
       "      <th>timestamp</th>\n",
       "      <th>interested</th>\n",
       "      <th>not_interested</th>\n",
       "    </tr>\n",
       "  </thead>\n",
       "  <tbody>\n",
       "    <tr>\n",
       "      <th>0</th>\n",
       "      <td>4101519751</td>\n",
       "      <td>id_ID</td>\n",
       "      <td>1994</td>\n",
       "      <td>male</td>\n",
       "      <td>2012-11-05T20:30:18.234Z</td>\n",
       "      <td>Yogyakarta</td>\n",
       "      <td>420</td>\n",
       "      <td>427097190</td>\n",
       "      <td>0</td>\n",
       "      <td>2012-11-08 21:46:16.428000+00:00</td>\n",
       "      <td>1</td>\n",
       "      <td>0</td>\n",
       "    </tr>\n",
       "    <tr>\n",
       "      <th>1</th>\n",
       "      <td>4101519751</td>\n",
       "      <td>id_ID</td>\n",
       "      <td>1994</td>\n",
       "      <td>male</td>\n",
       "      <td>2012-11-05T20:30:18.234Z</td>\n",
       "      <td>Yogyakarta</td>\n",
       "      <td>420</td>\n",
       "      <td>2114066448</td>\n",
       "      <td>0</td>\n",
       "      <td>2012-11-08 21:45:39.021000+00:00</td>\n",
       "      <td>0</td>\n",
       "      <td>0</td>\n",
       "    </tr>\n",
       "    <tr>\n",
       "      <th>2</th>\n",
       "      <td>4101519751</td>\n",
       "      <td>id_ID</td>\n",
       "      <td>1994</td>\n",
       "      <td>male</td>\n",
       "      <td>2012-11-05T20:30:18.234Z</td>\n",
       "      <td>Yogyakarta</td>\n",
       "      <td>420</td>\n",
       "      <td>688225431</td>\n",
       "      <td>0</td>\n",
       "      <td>2012-11-08 21:45:39.021000+00:00</td>\n",
       "      <td>0</td>\n",
       "      <td>0</td>\n",
       "    </tr>\n",
       "  </tbody>\n",
       "</table>\n",
       "</div>"
      ],
      "text/plain": [
       "      user_id locale birthyear gender                  joinedAt    location  \\\n",
       "0  4101519751  id_ID      1994   male  2012-11-05T20:30:18.234Z  Yogyakarta   \n",
       "1  4101519751  id_ID      1994   male  2012-11-05T20:30:18.234Z  Yogyakarta   \n",
       "2  4101519751  id_ID      1994   male  2012-11-05T20:30:18.234Z  Yogyakarta   \n",
       "\n",
       "   timezone       event  invited                         timestamp  \\\n",
       "0       420   427097190        0  2012-11-08 21:46:16.428000+00:00   \n",
       "1       420  2114066448        0  2012-11-08 21:45:39.021000+00:00   \n",
       "2       420   688225431        0  2012-11-08 21:45:39.021000+00:00   \n",
       "\n",
       "   interested  not_interested  \n",
       "0           1               0  \n",
       "1           0               0  \n",
       "2           0               0  "
      ]
     },
     "execution_count": 40,
     "metadata": {},
     "output_type": "execute_result"
    }
   ],
   "source": [
    "result.head(3)"
   ]
  },
  {
   "cell_type": "code",
   "execution_count": 41,
   "metadata": {
    "collapsed": true
   },
   "outputs": [],
   "source": [
    "result2 = user.merge(interaction, on='user_id', how='inner')"
   ]
  },
  {
   "cell_type": "code",
   "execution_count": 42,
   "metadata": {
    "collapsed": false
   },
   "outputs": [
    {
     "data": {
      "text/plain": [
       "(15398, 12)"
      ]
     },
     "execution_count": 42,
     "metadata": {},
     "output_type": "execute_result"
    }
   ],
   "source": [
    "result2.shape"
   ]
  },
  {
   "cell_type": "code",
   "execution_count": 45,
   "metadata": {
    "collapsed": false
   },
   "outputs": [
    {
     "data": {
      "text/html": [
       "<div>\n",
       "<table border=\"1\" class=\"dataframe\">\n",
       "  <thead>\n",
       "    <tr style=\"text-align: right;\">\n",
       "      <th></th>\n",
       "      <th>user_id</th>\n",
       "      <th>locale</th>\n",
       "      <th>birthyear</th>\n",
       "      <th>gender</th>\n",
       "      <th>joinedAt</th>\n",
       "      <th>location</th>\n",
       "      <th>timezone</th>\n",
       "      <th>event</th>\n",
       "      <th>invited</th>\n",
       "      <th>timestamp</th>\n",
       "      <th>interested</th>\n",
       "      <th>not_interested</th>\n",
       "    </tr>\n",
       "  </thead>\n",
       "  <tbody>\n",
       "    <tr>\n",
       "      <th>0</th>\n",
       "      <td>4101519751</td>\n",
       "      <td>id_ID</td>\n",
       "      <td>1994</td>\n",
       "      <td>male</td>\n",
       "      <td>2012-11-05T20:30:18.234Z</td>\n",
       "      <td>Yogyakarta</td>\n",
       "      <td>420</td>\n",
       "      <td>427097190</td>\n",
       "      <td>0</td>\n",
       "      <td>2012-11-08 21:46:16.428000+00:00</td>\n",
       "      <td>1</td>\n",
       "      <td>0</td>\n",
       "    </tr>\n",
       "    <tr>\n",
       "      <th>1</th>\n",
       "      <td>4101519751</td>\n",
       "      <td>id_ID</td>\n",
       "      <td>1994</td>\n",
       "      <td>male</td>\n",
       "      <td>2012-11-05T20:30:18.234Z</td>\n",
       "      <td>Yogyakarta</td>\n",
       "      <td>420</td>\n",
       "      <td>2114066448</td>\n",
       "      <td>0</td>\n",
       "      <td>2012-11-08 21:45:39.021000+00:00</td>\n",
       "      <td>0</td>\n",
       "      <td>0</td>\n",
       "    </tr>\n",
       "    <tr>\n",
       "      <th>2</th>\n",
       "      <td>4101519751</td>\n",
       "      <td>id_ID</td>\n",
       "      <td>1994</td>\n",
       "      <td>male</td>\n",
       "      <td>2012-11-05T20:30:18.234Z</td>\n",
       "      <td>Yogyakarta</td>\n",
       "      <td>420</td>\n",
       "      <td>688225431</td>\n",
       "      <td>0</td>\n",
       "      <td>2012-11-08 21:45:39.021000+00:00</td>\n",
       "      <td>0</td>\n",
       "      <td>0</td>\n",
       "    </tr>\n",
       "  </tbody>\n",
       "</table>\n",
       "</div>"
      ],
      "text/plain": [
       "      user_id locale birthyear gender                  joinedAt    location  \\\n",
       "0  4101519751  id_ID      1994   male  2012-11-05T20:30:18.234Z  Yogyakarta   \n",
       "1  4101519751  id_ID      1994   male  2012-11-05T20:30:18.234Z  Yogyakarta   \n",
       "2  4101519751  id_ID      1994   male  2012-11-05T20:30:18.234Z  Yogyakarta   \n",
       "\n",
       "   timezone       event  invited                         timestamp  \\\n",
       "0       420   427097190        0  2012-11-08 21:46:16.428000+00:00   \n",
       "1       420  2114066448        0  2012-11-08 21:45:39.021000+00:00   \n",
       "2       420   688225431        0  2012-11-08 21:45:39.021000+00:00   \n",
       "\n",
       "   interested  not_interested  \n",
       "0           1               0  \n",
       "1           0               0  \n",
       "2           0               0  "
      ]
     },
     "execution_count": 45,
     "metadata": {},
     "output_type": "execute_result"
    }
   ],
   "source": [
    "result2.head(3)"
   ]
  },
  {
   "cell_type": "code",
   "execution_count": 46,
   "metadata": {
    "collapsed": true
   },
   "outputs": [],
   "source": [
    "result3 = events.merge(result2, on='user_id', how='inner')"
   ]
  },
  {
   "cell_type": "code",
   "execution_count": 64,
   "metadata": {
    "collapsed": false
   },
   "outputs": [
    {
     "data": {
      "text/plain": [
       "(1068, 121)"
      ]
     },
     "execution_count": 64,
     "metadata": {},
     "output_type": "execute_result"
    }
   ],
   "source": [
    "result3.shape"
   ]
  },
  {
   "cell_type": "code",
   "execution_count": 76,
   "metadata": {
    "collapsed": false
   },
   "outputs": [
    {
     "data": {
      "text/html": [
       "<div>\n",
       "<table border=\"1\" class=\"dataframe\">\n",
       "  <thead>\n",
       "    <tr style=\"text-align: right;\">\n",
       "      <th></th>\n",
       "      <th>event_id</th>\n",
       "      <th>user_id</th>\n",
       "      <th>start_time</th>\n",
       "      <th>city</th>\n",
       "      <th>state</th>\n",
       "      <th>zip</th>\n",
       "      <th>country</th>\n",
       "      <th>lat</th>\n",
       "      <th>lng</th>\n",
       "      <th>c_1</th>\n",
       "      <th>...</th>\n",
       "      <th>birthyear</th>\n",
       "      <th>gender</th>\n",
       "      <th>joinedAt</th>\n",
       "      <th>location</th>\n",
       "      <th>timezone</th>\n",
       "      <th>event</th>\n",
       "      <th>invited</th>\n",
       "      <th>timestamp</th>\n",
       "      <th>interested</th>\n",
       "      <th>not_interested</th>\n",
       "    </tr>\n",
       "  </thead>\n",
       "  <tbody>\n",
       "    <tr>\n",
       "      <th>0</th>\n",
       "      <td>3571422725</td>\n",
       "      <td>458389001</td>\n",
       "      <td>2012-06-10T17:00:00.000Z</td>\n",
       "      <td>Toronto</td>\n",
       "      <td>ON</td>\n",
       "      <td>NaN</td>\n",
       "      <td>Canada</td>\n",
       "      <td>43.675</td>\n",
       "      <td>-79.347</td>\n",
       "      <td>2</td>\n",
       "      <td>...</td>\n",
       "      <td>1985</td>\n",
       "      <td>male</td>\n",
       "      <td>2012-07-25T02:41:53.799Z</td>\n",
       "      <td>NaN</td>\n",
       "      <td>-240</td>\n",
       "      <td>74074378</td>\n",
       "      <td>0</td>\n",
       "      <td>2012-07-25 02:42:35.760000+00:00</td>\n",
       "      <td>1</td>\n",
       "      <td>0</td>\n",
       "    </tr>\n",
       "    <tr>\n",
       "      <th>1</th>\n",
       "      <td>3571422725</td>\n",
       "      <td>458389001</td>\n",
       "      <td>2012-06-10T17:00:00.000Z</td>\n",
       "      <td>Toronto</td>\n",
       "      <td>ON</td>\n",
       "      <td>NaN</td>\n",
       "      <td>Canada</td>\n",
       "      <td>43.675</td>\n",
       "      <td>-79.347</td>\n",
       "      <td>2</td>\n",
       "      <td>...</td>\n",
       "      <td>1985</td>\n",
       "      <td>male</td>\n",
       "      <td>2012-07-25T02:41:53.799Z</td>\n",
       "      <td>NaN</td>\n",
       "      <td>-240</td>\n",
       "      <td>483490410</td>\n",
       "      <td>0</td>\n",
       "      <td>2012-07-25 02:42:35.760000+00:00</td>\n",
       "      <td>0</td>\n",
       "      <td>0</td>\n",
       "    </tr>\n",
       "    <tr>\n",
       "      <th>2</th>\n",
       "      <td>3571422725</td>\n",
       "      <td>458389001</td>\n",
       "      <td>2012-06-10T17:00:00.000Z</td>\n",
       "      <td>Toronto</td>\n",
       "      <td>ON</td>\n",
       "      <td>NaN</td>\n",
       "      <td>Canada</td>\n",
       "      <td>43.675</td>\n",
       "      <td>-79.347</td>\n",
       "      <td>2</td>\n",
       "      <td>...</td>\n",
       "      <td>1985</td>\n",
       "      <td>male</td>\n",
       "      <td>2012-07-25T02:41:53.799Z</td>\n",
       "      <td>NaN</td>\n",
       "      <td>-240</td>\n",
       "      <td>3569923325</td>\n",
       "      <td>0</td>\n",
       "      <td>2012-07-25 02:42:35.760000+00:00</td>\n",
       "      <td>0</td>\n",
       "      <td>0</td>\n",
       "    </tr>\n",
       "  </tbody>\n",
       "</table>\n",
       "<p>3 rows × 121 columns</p>\n",
       "</div>"
      ],
      "text/plain": [
       "     event_id    user_id                start_time     city state  zip  \\\n",
       "0  3571422725  458389001  2012-06-10T17:00:00.000Z  Toronto    ON  NaN   \n",
       "1  3571422725  458389001  2012-06-10T17:00:00.000Z  Toronto    ON  NaN   \n",
       "2  3571422725  458389001  2012-06-10T17:00:00.000Z  Toronto    ON  NaN   \n",
       "\n",
       "  country     lat     lng  c_1       ...        birthyear  gender  \\\n",
       "0  Canada  43.675 -79.347    2       ...             1985    male   \n",
       "1  Canada  43.675 -79.347    2       ...             1985    male   \n",
       "2  Canada  43.675 -79.347    2       ...             1985    male   \n",
       "\n",
       "                   joinedAt  location  timezone       event  invited  \\\n",
       "0  2012-07-25T02:41:53.799Z       NaN      -240    74074378        0   \n",
       "1  2012-07-25T02:41:53.799Z       NaN      -240   483490410        0   \n",
       "2  2012-07-25T02:41:53.799Z       NaN      -240  3569923325        0   \n",
       "\n",
       "                          timestamp  interested  not_interested  \n",
       "0  2012-07-25 02:42:35.760000+00:00           1               0  \n",
       "1  2012-07-25 02:42:35.760000+00:00           0               0  \n",
       "2  2012-07-25 02:42:35.760000+00:00           0               0  \n",
       "\n",
       "[3 rows x 121 columns]"
      ]
     },
     "execution_count": 76,
     "metadata": {},
     "output_type": "execute_result"
    }
   ],
   "source": [
    "result3.head(3)"
   ]
  },
  {
   "cell_type": "code",
   "execution_count": 63,
   "metadata": {
    "collapsed": true
   },
   "outputs": [],
   "source": [
    "result3.to_csv(\"events_users_interaction_joined.csv\", index=False)"
   ]
  },
  {
   "cell_type": "code",
   "execution_count": 104,
   "metadata": {
    "collapsed": false
   },
   "outputs": [],
   "source": [
    "t = result3.groupby([\"user_id\", \"event_id\"]).size()"
   ]
  },
  {
   "cell_type": "code",
   "execution_count": 105,
   "metadata": {
    "collapsed": false
   },
   "outputs": [],
   "source": [
    "s = t[t>7]"
   ]
  },
  {
   "cell_type": "code",
   "execution_count": 106,
   "metadata": {
    "collapsed": false
   },
   "outputs": [
    {
     "data": {
      "text/plain": [
       "user_id     event_id  \n",
       "81458678    2914370075    12\n",
       "395305791   3067878805    19\n",
       "458097400   403666423     10\n",
       "            1004364382    10\n",
       "            1167399321    10\n",
       "724483958   1674045200     9\n",
       "1075126714  2456667746    27\n",
       "1171363794  2471776755    25\n",
       "1267593079  3267676143    12\n",
       "2202079852  1569231835    13\n",
       "2209002289  2026144213    15\n",
       "2217853337  3137985038    15\n",
       "2559754952  4189447197    14\n",
       "2895220130  1618226807    37\n",
       "2903662804  44862888      91\n",
       "            1728231357    91\n",
       "2985391759  1773358985    18\n",
       "3591151863  656983762     10\n",
       "            1050617191    10\n",
       "            2822500766    10\n",
       "            3023628065    10\n",
       "            3309372398    10\n",
       "            3374114455    10\n",
       "            4293147981    10\n",
       "3592311259  1835244265     8\n",
       "3621549603  98158159      12\n",
       "            460933963     12\n",
       "            935838961     12\n",
       "            1077660025    12\n",
       "            3270530791    12\n",
       "3870800241  1471030775     8\n",
       "            2480577660     8\n",
       "            2936075033     8\n",
       "            3971546186     8\n",
       "4057602883  2114238114    14\n",
       "4222590338  852571553     12\n",
       "dtype: int64"
      ]
     },
     "execution_count": 106,
     "metadata": {},
     "output_type": "execute_result"
    }
   ],
   "source": [
    "s"
   ]
  },
  {
   "cell_type": "code",
   "execution_count": 100,
   "metadata": {
    "collapsed": false
   },
   "outputs": [
    {
     "ename": "AttributeError",
     "evalue": "'Series' object has no attribute 'event_id'",
     "output_type": "error",
     "traceback": [
      "\u001b[1;31m---------------------------------------------------------------------------\u001b[0m",
      "\u001b[1;31mAttributeError\u001b[0m                            Traceback (most recent call last)",
      "\u001b[1;32m<ipython-input-100-bb59acebd05b>\u001b[0m in \u001b[0;36m<module>\u001b[1;34m()\u001b[0m\n\u001b[1;32m----> 1\u001b[1;33m \u001b[0ms\u001b[0m\u001b[1;33m.\u001b[0m\u001b[0mevent_id\u001b[0m\u001b[1;33m\u001b[0m\u001b[0m\n\u001b[0m",
      "\u001b[1;32mC:\\Users\\enyir\\AppData\\Local\\Continuum\\Anaconda\\lib\\site-packages\\pandas\\core\\generic.pyc\u001b[0m in \u001b[0;36m__getattr__\u001b[1;34m(self, name)\u001b[0m\n\u001b[0;32m   2148\u001b[0m                 \u001b[1;32mreturn\u001b[0m \u001b[0mself\u001b[0m\u001b[1;33m[\u001b[0m\u001b[0mname\u001b[0m\u001b[1;33m]\u001b[0m\u001b[1;33m\u001b[0m\u001b[0m\n\u001b[0;32m   2149\u001b[0m             raise AttributeError(\"'%s' object has no attribute '%s'\" %\n\u001b[1;32m-> 2150\u001b[1;33m                                  (type(self).__name__, name))\n\u001b[0m\u001b[0;32m   2151\u001b[0m \u001b[1;33m\u001b[0m\u001b[0m\n\u001b[0;32m   2152\u001b[0m     \u001b[1;32mdef\u001b[0m \u001b[0m__setattr__\u001b[0m\u001b[1;33m(\u001b[0m\u001b[0mself\u001b[0m\u001b[1;33m,\u001b[0m \u001b[0mname\u001b[0m\u001b[1;33m,\u001b[0m \u001b[0mvalue\u001b[0m\u001b[1;33m)\u001b[0m\u001b[1;33m:\u001b[0m\u001b[1;33m\u001b[0m\u001b[0m\n",
      "\u001b[1;31mAttributeError\u001b[0m: 'Series' object has no attribute 'event_id'"
     ]
    }
   ],
   "source": []
  },
  {
   "cell_type": "code",
   "execution_count": null,
   "metadata": {
    "collapsed": true
   },
   "outputs": [],
   "source": []
  },
  {
   "cell_type": "code",
   "execution_count": 75,
   "metadata": {
    "collapsed": false
   },
   "outputs": [
    {
     "ename": "ValueError",
     "evalue": "columns overlap but no suffix specified: Index([u'user_id'], dtype='object')",
     "output_type": "error",
     "traceback": [
      "\u001b[1;31m---------------------------------------------------------------------------\u001b[0m",
      "\u001b[1;31mValueError\u001b[0m                                Traceback (most recent call last)",
      "\u001b[1;32m<ipython-input-75-835fba7e10a1>\u001b[0m in \u001b[0;36m<module>\u001b[1;34m()\u001b[0m\n\u001b[1;32m----> 1\u001b[1;33m \u001b[0mtestjoin\u001b[0m \u001b[1;33m=\u001b[0m \u001b[0muser\u001b[0m\u001b[1;33m.\u001b[0m\u001b[0mjoin\u001b[0m\u001b[1;33m(\u001b[0m\u001b[0minteraction\u001b[0m\u001b[1;33m,\u001b[0m \u001b[0mhow\u001b[0m \u001b[1;33m=\u001b[0m \u001b[1;34m'inner'\u001b[0m\u001b[1;33m)\u001b[0m\u001b[1;33m\u001b[0m\u001b[0m\n\u001b[0m",
      "\u001b[1;32mC:\\Users\\enyir\\AppData\\Local\\Continuum\\Anaconda\\lib\\site-packages\\pandas\\core\\frame.pyc\u001b[0m in \u001b[0;36mjoin\u001b[1;34m(self, other, on, how, lsuffix, rsuffix, sort)\u001b[0m\n\u001b[0;32m   4017\u001b[0m         \u001b[1;31m# For SparseDataFrame's benefit\u001b[0m\u001b[1;33m\u001b[0m\u001b[1;33m\u001b[0m\u001b[0m\n\u001b[0;32m   4018\u001b[0m         return self._join_compat(other, on=on, how=how, lsuffix=lsuffix,\n\u001b[1;32m-> 4019\u001b[1;33m                                  rsuffix=rsuffix, sort=sort)\n\u001b[0m\u001b[0;32m   4020\u001b[0m \u001b[1;33m\u001b[0m\u001b[0m\n\u001b[0;32m   4021\u001b[0m     def _join_compat(self, other, on=None, how='left', lsuffix='', rsuffix='',\n",
      "\u001b[1;32mC:\\Users\\enyir\\AppData\\Local\\Continuum\\Anaconda\\lib\\site-packages\\pandas\\core\\frame.pyc\u001b[0m in \u001b[0;36m_join_compat\u001b[1;34m(self, other, on, how, lsuffix, rsuffix, sort)\u001b[0m\n\u001b[0;32m   4031\u001b[0m             return merge(self, other, left_on=on, how=how,\n\u001b[0;32m   4032\u001b[0m                          \u001b[0mleft_index\u001b[0m\u001b[1;33m=\u001b[0m\u001b[0mon\u001b[0m \u001b[1;32mis\u001b[0m \u001b[0mNone\u001b[0m\u001b[1;33m,\u001b[0m \u001b[0mright_index\u001b[0m\u001b[1;33m=\u001b[0m\u001b[0mTrue\u001b[0m\u001b[1;33m,\u001b[0m\u001b[1;33m\u001b[0m\u001b[0m\n\u001b[1;32m-> 4033\u001b[1;33m                          suffixes=(lsuffix, rsuffix), sort=sort)\n\u001b[0m\u001b[0;32m   4034\u001b[0m         \u001b[1;32melse\u001b[0m\u001b[1;33m:\u001b[0m\u001b[1;33m\u001b[0m\u001b[0m\n\u001b[0;32m   4035\u001b[0m             \u001b[1;32mif\u001b[0m \u001b[0mon\u001b[0m \u001b[1;32mis\u001b[0m \u001b[1;32mnot\u001b[0m \u001b[0mNone\u001b[0m\u001b[1;33m:\u001b[0m\u001b[1;33m\u001b[0m\u001b[0m\n",
      "\u001b[1;32mC:\\Users\\enyir\\AppData\\Local\\Continuum\\Anaconda\\lib\\site-packages\\pandas\\tools\\merge.pyc\u001b[0m in \u001b[0;36mmerge\u001b[1;34m(left, right, how, on, left_on, right_on, left_index, right_index, sort, suffixes, copy)\u001b[0m\n\u001b[0;32m     36\u001b[0m                          \u001b[0mright_index\u001b[0m\u001b[1;33m=\u001b[0m\u001b[0mright_index\u001b[0m\u001b[1;33m,\u001b[0m \u001b[0msort\u001b[0m\u001b[1;33m=\u001b[0m\u001b[0msort\u001b[0m\u001b[1;33m,\u001b[0m \u001b[0msuffixes\u001b[0m\u001b[1;33m=\u001b[0m\u001b[0msuffixes\u001b[0m\u001b[1;33m,\u001b[0m\u001b[1;33m\u001b[0m\u001b[0m\n\u001b[0;32m     37\u001b[0m                          copy=copy)\n\u001b[1;32m---> 38\u001b[1;33m     \u001b[1;32mreturn\u001b[0m \u001b[0mop\u001b[0m\u001b[1;33m.\u001b[0m\u001b[0mget_result\u001b[0m\u001b[1;33m(\u001b[0m\u001b[1;33m)\u001b[0m\u001b[1;33m\u001b[0m\u001b[0m\n\u001b[0m\u001b[0;32m     39\u001b[0m \u001b[1;32mif\u001b[0m \u001b[0m__debug__\u001b[0m\u001b[1;33m:\u001b[0m\u001b[1;33m\u001b[0m\u001b[0m\n\u001b[0;32m     40\u001b[0m     \u001b[0mmerge\u001b[0m\u001b[1;33m.\u001b[0m\u001b[0m__doc__\u001b[0m \u001b[1;33m=\u001b[0m \u001b[0m_merge_doc\u001b[0m \u001b[1;33m%\u001b[0m \u001b[1;34m'\\nleft : DataFrame'\u001b[0m\u001b[1;33m\u001b[0m\u001b[0m\n",
      "\u001b[1;32mC:\\Users\\enyir\\AppData\\Local\\Continuum\\Anaconda\\lib\\site-packages\\pandas\\tools\\merge.pyc\u001b[0m in \u001b[0;36mget_result\u001b[1;34m(self)\u001b[0m\n\u001b[0;32m    190\u001b[0m \u001b[1;33m\u001b[0m\u001b[0m\n\u001b[0;32m    191\u001b[0m         llabels, rlabels = items_overlap_with_suffix(ldata.items, lsuf,\n\u001b[1;32m--> 192\u001b[1;33m                                                      rdata.items, rsuf)\n\u001b[0m\u001b[0;32m    193\u001b[0m \u001b[1;33m\u001b[0m\u001b[0m\n\u001b[0;32m    194\u001b[0m         \u001b[0mlindexers\u001b[0m \u001b[1;33m=\u001b[0m \u001b[1;33m{\u001b[0m\u001b[1;36m1\u001b[0m\u001b[1;33m:\u001b[0m \u001b[0mleft_indexer\u001b[0m\u001b[1;33m}\u001b[0m \u001b[1;32mif\u001b[0m \u001b[0mleft_indexer\u001b[0m \u001b[1;32mis\u001b[0m \u001b[1;32mnot\u001b[0m \u001b[0mNone\u001b[0m \u001b[1;32melse\u001b[0m \u001b[1;33m{\u001b[0m\u001b[1;33m}\u001b[0m\u001b[1;33m\u001b[0m\u001b[0m\n",
      "\u001b[1;32mC:\\Users\\enyir\\AppData\\Local\\Continuum\\Anaconda\\lib\\site-packages\\pandas\\core\\internals.pyc\u001b[0m in \u001b[0;36mitems_overlap_with_suffix\u001b[1;34m(left, lsuffix, right, rsuffix)\u001b[0m\n\u001b[0;32m   3969\u001b[0m         \u001b[1;32mif\u001b[0m \u001b[1;32mnot\u001b[0m \u001b[0mlsuffix\u001b[0m \u001b[1;32mand\u001b[0m \u001b[1;32mnot\u001b[0m \u001b[0mrsuffix\u001b[0m\u001b[1;33m:\u001b[0m\u001b[1;33m\u001b[0m\u001b[0m\n\u001b[0;32m   3970\u001b[0m             raise ValueError('columns overlap but no suffix specified: %s' %\n\u001b[1;32m-> 3971\u001b[1;33m                              to_rename)\n\u001b[0m\u001b[0;32m   3972\u001b[0m \u001b[1;33m\u001b[0m\u001b[0m\n\u001b[0;32m   3973\u001b[0m         \u001b[1;32mdef\u001b[0m \u001b[0mlrenamer\u001b[0m\u001b[1;33m(\u001b[0m\u001b[0mx\u001b[0m\u001b[1;33m)\u001b[0m\u001b[1;33m:\u001b[0m\u001b[1;33m\u001b[0m\u001b[0m\n",
      "\u001b[1;31mValueError\u001b[0m: columns overlap but no suffix specified: Index([u'user_id'], dtype='object')"
     ]
    }
   ],
   "source": [
    "testjoin = user.join(interaction, how = 'inner')"
   ]
  },
  {
   "cell_type": "code",
   "execution_count": 73,
   "metadata": {
    "collapsed": false
   },
   "outputs": [],
   "source": [
    "testjoin = user.join(interaction, on='user_id', how='inner', lsuffix='_left')"
   ]
  },
  {
   "cell_type": "code",
   "execution_count": 74,
   "metadata": {
    "collapsed": false
   },
   "outputs": [
    {
     "data": {
      "text/html": [
       "<div>\n",
       "<table border=\"1\" class=\"dataframe\">\n",
       "  <thead>\n",
       "    <tr style=\"text-align: right;\">\n",
       "      <th></th>\n",
       "      <th>user_id_left</th>\n",
       "      <th>locale</th>\n",
       "      <th>birthyear</th>\n",
       "      <th>gender</th>\n",
       "      <th>joinedAt</th>\n",
       "      <th>location</th>\n",
       "      <th>timezone</th>\n",
       "      <th>user_id</th>\n",
       "      <th>event</th>\n",
       "      <th>invited</th>\n",
       "      <th>timestamp</th>\n",
       "      <th>interested</th>\n",
       "      <th>not_interested</th>\n",
       "    </tr>\n",
       "  </thead>\n",
       "  <tbody>\n",
       "    <tr>\n",
       "      <th>35430</th>\n",
       "      <td>6110</td>\n",
       "      <td>en_US</td>\n",
       "      <td>1994</td>\n",
       "      <td>male</td>\n",
       "      <td>2012-10-04T23:21:26.059Z</td>\n",
       "      <td>Union City  CA</td>\n",
       "      <td>-480</td>\n",
       "      <td>1785235519</td>\n",
       "      <td>1736406045</td>\n",
       "      <td>0</td>\n",
       "      <td>2012-10-20 08:01:07.374000+00:00</td>\n",
       "      <td>0</td>\n",
       "      <td>1</td>\n",
       "    </tr>\n",
       "  </tbody>\n",
       "</table>\n",
       "</div>"
      ],
      "text/plain": [
       "       user_id_left locale birthyear gender                  joinedAt  \\\n",
       "35430          6110  en_US      1994   male  2012-10-04T23:21:26.059Z   \n",
       "\n",
       "             location  timezone     user_id       event  invited  \\\n",
       "35430  Union City  CA      -480  1785235519  1736406045        0   \n",
       "\n",
       "                              timestamp  interested  not_interested  \n",
       "35430  2012-10-20 08:01:07.374000+00:00           0               1  "
      ]
     },
     "execution_count": 74,
     "metadata": {},
     "output_type": "execute_result"
    }
   ],
   "source": [
    "testjoin"
   ]
  },
  {
   "cell_type": "code",
   "execution_count": null,
   "metadata": {
    "collapsed": true
   },
   "outputs": [],
   "source": []
  }
 ],
 "metadata": {
  "kernelspec": {
   "display_name": "Python 2",
   "language": "python",
   "name": "python2"
  },
  "language_info": {
   "codemirror_mode": {
    "name": "ipython",
    "version": 2
   },
   "file_extension": ".py",
   "mimetype": "text/x-python",
   "name": "python",
   "nbconvert_exporter": "python",
   "pygments_lexer": "ipython2",
   "version": "2.7.10"
  }
 },
 "nbformat": 4,
 "nbformat_minor": 0
}
