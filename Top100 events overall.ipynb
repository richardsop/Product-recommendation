{
 "cells": [
  {
   "cell_type": "code",
   "execution_count": 44,
   "metadata": {
    "collapsed": false
   },
   "outputs": [],
   "source": [
    "import pandas as pd\n",
    "from sklearn import cross_validation\n",
    "%matplotlib inline\n",
    "import ml_metrics as metrics"
   ]
  },
  {
   "cell_type": "code",
   "execution_count": 45,
   "metadata": {
    "collapsed": false
   },
   "outputs": [],
   "source": [
    "#imports predicted data of top 10 predictions\n",
    "pred = pd.read_csv(\"exportTop100Overall_occuring.csv\", quoting=0, header=0, delimiter=\",\")"
   ]
  },
  {
   "cell_type": "code",
   "execution_count": 46,
   "metadata": {
    "collapsed": false
   },
   "outputs": [
    {
     "data": {
      "text/plain": [
       "(28782, 4)"
      ]
     },
     "execution_count": 46,
     "metadata": {},
     "output_type": "execute_result"
    }
   ],
   "source": [
    "#dimension of the data\n",
    "pred.shape"
   ]
  },
  {
   "cell_type": "code",
   "execution_count": 47,
   "metadata": {
    "collapsed": false
   },
   "outputs": [
    {
     "data": {
      "text/html": [
       "<div style=\"max-height:1000px;max-width:1500px;overflow:auto;\">\n",
       "<table border=\"1\" class=\"dataframe\">\n",
       "  <thead>\n",
       "    <tr style=\"text-align: right;\">\n",
       "      <th></th>\n",
       "      <th>EVENTID</th>\n",
       "      <th>PROPENSITY</th>\n",
       "      <th>USER_ID</th>\n",
       "      <th>RANK</th>\n",
       "    </tr>\n",
       "  </thead>\n",
       "  <tbody>\n",
       "    <tr>\n",
       "      <th>0</th>\n",
       "      <td>1116957623</td>\n",
       "      <td>0.99</td>\n",
       "      <td>1739369956</td>\n",
       "      <td>73</td>\n",
       "    </tr>\n",
       "    <tr>\n",
       "      <th>1</th>\n",
       "      <td>1390707377</td>\n",
       "      <td>0.99</td>\n",
       "      <td>2391268949</td>\n",
       "      <td>4</td>\n",
       "    </tr>\n",
       "    <tr>\n",
       "      <th>2</th>\n",
       "      <td>1532377761</td>\n",
       "      <td>0.99</td>\n",
       "      <td>2391268949</td>\n",
       "      <td>5</td>\n",
       "    </tr>\n",
       "    <tr>\n",
       "      <th>3</th>\n",
       "      <td>2529072432</td>\n",
       "      <td>0.99</td>\n",
       "      <td>2391268949</td>\n",
       "      <td>2</td>\n",
       "    </tr>\n",
       "    <tr>\n",
       "      <th>4</th>\n",
       "      <td>1600413013</td>\n",
       "      <td>0.99</td>\n",
       "      <td>2391268949</td>\n",
       "      <td>3</td>\n",
       "    </tr>\n",
       "  </tbody>\n",
       "</table>\n",
       "</div>"
      ],
      "text/plain": [
       "      EVENTID  PROPENSITY     USER_ID  RANK\n",
       "0  1116957623        0.99  1739369956    73\n",
       "1  1390707377        0.99  2391268949     4\n",
       "2  1532377761        0.99  2391268949     5\n",
       "3  2529072432        0.99  2391268949     2\n",
       "4  1600413013        0.99  2391268949     3"
      ]
     },
     "execution_count": 47,
     "metadata": {},
     "output_type": "execute_result"
    }
   ],
   "source": [
    "#first five contents of pred\n",
    "pred.head()"
   ]
  },
  {
   "cell_type": "code",
   "execution_count": 48,
   "metadata": {
    "collapsed": false
   },
   "outputs": [],
   "source": [
    "#pred.groupby(\"EVENTID\").size()"
   ]
  },
  {
   "cell_type": "code",
   "execution_count": null,
   "metadata": {
    "collapsed": false
   },
   "outputs": [],
   "source": []
  },
  {
   "cell_type": "code",
   "execution_count": 49,
   "metadata": {
    "collapsed": false
   },
   "outputs": [],
   "source": [
    "#Sorts the data by Rank\n",
    "t = pred.sort_index(by=[\"USER_ID\"], ascending=[True])"
   ]
  },
  {
   "cell_type": "code",
   "execution_count": 50,
   "metadata": {
    "collapsed": true
   },
   "outputs": [],
   "source": [
    "#Sorts the data by Rank\n",
    "t = pred.sort_index(by=[\"RANK\"], ascending=[True])"
   ]
  },
  {
   "cell_type": "code",
   "execution_count": 51,
   "metadata": {
    "collapsed": false
   },
   "outputs": [
    {
     "data": {
      "text/html": [
       "<div style=\"max-height:1000px;max-width:1500px;overflow:auto;\">\n",
       "<table border=\"1\" class=\"dataframe\">\n",
       "  <thead>\n",
       "    <tr style=\"text-align: right;\">\n",
       "      <th></th>\n",
       "      <th>EVENTID</th>\n",
       "      <th>PROPENSITY</th>\n",
       "      <th>USER_ID</th>\n",
       "      <th>RANK</th>\n",
       "    </tr>\n",
       "  </thead>\n",
       "  <tbody>\n",
       "    <tr>\n",
       "      <th>25492</th>\n",
       "      <td>955398943</td>\n",
       "      <td>0.99</td>\n",
       "      <td>2622502489</td>\n",
       "      <td>1</td>\n",
       "    </tr>\n",
       "    <tr>\n",
       "      <th>20183</th>\n",
       "      <td>955398943</td>\n",
       "      <td>0.99</td>\n",
       "      <td>2194944131</td>\n",
       "      <td>1</td>\n",
       "    </tr>\n",
       "    <tr>\n",
       "      <th>12940</th>\n",
       "      <td>955398943</td>\n",
       "      <td>0.99</td>\n",
       "      <td>971572498</td>\n",
       "      <td>1</td>\n",
       "    </tr>\n",
       "    <tr>\n",
       "      <th>2759</th>\n",
       "      <td>955398943</td>\n",
       "      <td>0.99</td>\n",
       "      <td>1027602768</td>\n",
       "      <td>1</td>\n",
       "    </tr>\n",
       "    <tr>\n",
       "      <th>20241</th>\n",
       "      <td>955398943</td>\n",
       "      <td>0.99</td>\n",
       "      <td>1050303296</td>\n",
       "      <td>1</td>\n",
       "    </tr>\n",
       "  </tbody>\n",
       "</table>\n",
       "</div>"
      ],
      "text/plain": [
       "         EVENTID  PROPENSITY     USER_ID  RANK\n",
       "25492  955398943        0.99  2622502489     1\n",
       "20183  955398943        0.99  2194944131     1\n",
       "12940  955398943        0.99   971572498     1\n",
       "2759   955398943        0.99  1027602768     1\n",
       "20241  955398943        0.99  1050303296     1"
      ]
     },
     "execution_count": 51,
     "metadata": {},
     "output_type": "execute_result"
    }
   ],
   "source": [
    "#first 5 contents of the data after sort\n",
    "t.head()"
   ]
  },
  {
   "cell_type": "code",
   "execution_count": 52,
   "metadata": {
    "collapsed": false
   },
   "outputs": [
    {
     "data": {
      "text/html": [
       "<div style=\"max-height:1000px;max-width:1500px;overflow:auto;\">\n",
       "<table border=\"1\" class=\"dataframe\">\n",
       "  <thead>\n",
       "    <tr style=\"text-align: right;\">\n",
       "      <th></th>\n",
       "      <th>EVENTID</th>\n",
       "      <th>PROPENSITY</th>\n",
       "      <th>USER_ID</th>\n",
       "      <th>RANK</th>\n",
       "    </tr>\n",
       "  </thead>\n",
       "  <tbody>\n",
       "    <tr>\n",
       "      <th>367</th>\n",
       "      <td>3950589515</td>\n",
       "      <td>0.99</td>\n",
       "      <td>2585857017</td>\n",
       "      <td>82</td>\n",
       "    </tr>\n",
       "    <tr>\n",
       "      <th>11901</th>\n",
       "      <td>3950589515</td>\n",
       "      <td>0.99</td>\n",
       "      <td>404226314</td>\n",
       "      <td>82</td>\n",
       "    </tr>\n",
       "    <tr>\n",
       "      <th>21689</th>\n",
       "      <td>3950589515</td>\n",
       "      <td>0.99</td>\n",
       "      <td>975885955</td>\n",
       "      <td>82</td>\n",
       "    </tr>\n",
       "    <tr>\n",
       "      <th>451</th>\n",
       "      <td>3950589515</td>\n",
       "      <td>0.99</td>\n",
       "      <td>1927515781</td>\n",
       "      <td>82</td>\n",
       "    </tr>\n",
       "    <tr>\n",
       "      <th>23599</th>\n",
       "      <td>3950589515</td>\n",
       "      <td>0.99</td>\n",
       "      <td>1947430492</td>\n",
       "      <td>82</td>\n",
       "    </tr>\n",
       "  </tbody>\n",
       "</table>\n",
       "</div>"
      ],
      "text/plain": [
       "          EVENTID  PROPENSITY     USER_ID  RANK\n",
       "367    3950589515        0.99  2585857017    82\n",
       "11901  3950589515        0.99   404226314    82\n",
       "21689  3950589515        0.99   975885955    82\n",
       "451    3950589515        0.99  1927515781    82\n",
       "23599  3950589515        0.99  1947430492    82"
      ]
     },
     "execution_count": 52,
     "metadata": {},
     "output_type": "execute_result"
    }
   ],
   "source": [
    "#last 5 contents of the file after sort\n",
    "t.tail()"
   ]
  },
  {
   "cell_type": "code",
   "execution_count": 53,
   "metadata": {
    "collapsed": false
   },
   "outputs": [],
   "source": [
    "# drop duplicates if ther e any rows that are duplicated but keep the first (default)\n",
    "t = t.drop_duplicates()"
   ]
  },
  {
   "cell_type": "code",
   "execution_count": 54,
   "metadata": {
    "collapsed": false
   },
   "outputs": [],
   "source": [
    "t = t[[\"EVENTID\",\"USER_ID\",\"RANK\"]]"
   ]
  },
  {
   "cell_type": "code",
   "execution_count": 55,
   "metadata": {
    "collapsed": false
   },
   "outputs": [
    {
     "data": {
      "text/html": [
       "<div style=\"max-height:1000px;max-width:1500px;overflow:auto;\">\n",
       "<table border=\"1\" class=\"dataframe\">\n",
       "  <thead>\n",
       "    <tr style=\"text-align: right;\">\n",
       "      <th></th>\n",
       "      <th>EVENTID</th>\n",
       "      <th>USER_ID</th>\n",
       "      <th>RANK</th>\n",
       "    </tr>\n",
       "  </thead>\n",
       "  <tbody>\n",
       "    <tr>\n",
       "      <th>25492</th>\n",
       "      <td>955398943</td>\n",
       "      <td>2622502489</td>\n",
       "      <td>1</td>\n",
       "    </tr>\n",
       "    <tr>\n",
       "      <th>20183</th>\n",
       "      <td>955398943</td>\n",
       "      <td>2194944131</td>\n",
       "      <td>1</td>\n",
       "    </tr>\n",
       "    <tr>\n",
       "      <th>12940</th>\n",
       "      <td>955398943</td>\n",
       "      <td>971572498</td>\n",
       "      <td>1</td>\n",
       "    </tr>\n",
       "    <tr>\n",
       "      <th>2759</th>\n",
       "      <td>955398943</td>\n",
       "      <td>1027602768</td>\n",
       "      <td>1</td>\n",
       "    </tr>\n",
       "    <tr>\n",
       "      <th>20241</th>\n",
       "      <td>955398943</td>\n",
       "      <td>1050303296</td>\n",
       "      <td>1</td>\n",
       "    </tr>\n",
       "  </tbody>\n",
       "</table>\n",
       "</div>"
      ],
      "text/plain": [
       "         EVENTID     USER_ID  RANK\n",
       "25492  955398943  2622502489     1\n",
       "20183  955398943  2194944131     1\n",
       "12940  955398943   971572498     1\n",
       "2759   955398943  1027602768     1\n",
       "20241  955398943  1050303296     1"
      ]
     },
     "execution_count": 55,
     "metadata": {},
     "output_type": "execute_result"
    }
   ],
   "source": [
    "#data affter removing duplicates\n",
    "t.head()"
   ]
  },
  {
   "cell_type": "code",
   "execution_count": 56,
   "metadata": {
    "collapsed": false
   },
   "outputs": [
    {
     "data": {
      "text/plain": [
       "(28782, 3)"
      ]
     },
     "execution_count": 56,
     "metadata": {},
     "output_type": "execute_result"
    }
   ],
   "source": [
    "#no duplicates in the data seen in the data dimension\n",
    "t.shape"
   ]
  },
  {
   "cell_type": "code",
   "execution_count": 60,
   "metadata": {
    "collapsed": false
   },
   "outputs": [],
   "source": [
    "#contents of 10 recocommendations to a customer 892435980\n",
    "g=t.loc[t['USER_ID'].isin([4268968909])]"
   ]
  },
  {
   "cell_type": "code",
   "execution_count": 61,
   "metadata": {
    "collapsed": true
   },
   "outputs": [],
   "source": [
    "#Gets columns \n",
    "g = g[[\"EVENTID\",\"USER_ID\"]]"
   ]
  },
  {
   "cell_type": "code",
   "execution_count": null,
   "metadata": {
    "collapsed": true
   },
   "outputs": [],
   "source": []
  },
  {
   "cell_type": "code",
   "execution_count": 62,
   "metadata": {
    "collapsed": false
   },
   "outputs": [],
   "source": [
    "#convert the data to a dictionary\n",
    "dictdata = {k: list(v) for k,v in g.groupby(\"USER_ID\")[\"EVENTID\"]}"
   ]
  },
  {
   "cell_type": "code",
   "execution_count": 63,
   "metadata": {
    "collapsed": false
   },
   "outputs": [
    {
     "data": {
      "text/plain": [
       "{4268968909: [955398943,\n",
       "  2529072432,\n",
       "  1600413013,\n",
       "  1390707377,\n",
       "  1532377761,\n",
       "  2149464820,\n",
       "  268233790,\n",
       "  1203717384,\n",
       "  3632072502,\n",
       "  3849306291,\n",
       "  2130616732,\n",
       "  719337372,\n",
       "  633659090,\n",
       "  2643833505,\n",
       "  907302600,\n",
       "  2498491194,\n",
       "  2073609284,\n",
       "  3276213471,\n",
       "  1133385189,\n",
       "  2153037761,\n",
       "  771676713,\n",
       "  1361307272,\n",
       "  2401458775,\n",
       "  4203627753,\n",
       "  1488068589,\n",
       "  1448086840,\n",
       "  152418051,\n",
       "  2415873572,\n",
       "  2428145712,\n",
       "  1205670273,\n",
       "  3048578499,\n",
       "  559618821,\n",
       "  221202458,\n",
       "  1332759137,\n",
       "  1926323783,\n",
       "  3480624055,\n",
       "  602394192,\n",
       "  3581275802,\n",
       "  3643004825,\n",
       "  1776393554,\n",
       "  3183605169,\n",
       "  4080944038,\n",
       "  823015621,\n",
       "  1597380017,\n",
       "  645163767,\n",
       "  1465929077,\n",
       "  861118590,\n",
       "  915403718,\n",
       "  1044854627,\n",
       "  810618772,\n",
       "  1699561506,\n",
       "  2115491671,\n",
       "  642644408,\n",
       "  2465528861,\n",
       "  3509100603,\n",
       "  910169576,\n",
       "  1641491432,\n",
       "  741936389,\n",
       "  353933726,\n",
       "  2039358442,\n",
       "  615488222,\n",
       "  2803195749,\n",
       "  4125420656,\n",
       "  675888033,\n",
       "  1241270051,\n",
       "  3462111166,\n",
       "  3838044081,\n",
       "  3103100779,\n",
       "  3565166403,\n",
       "  4232519602,\n",
       "  753115138,\n",
       "  3199229320,\n",
       "  1116957623,\n",
       "  97217712,\n",
       "  1212947698,\n",
       "  98978060,\n",
       "  1530709861,\n",
       "  2114371180,\n",
       "  3735036412,\n",
       "  130493588,\n",
       "  3429508261,\n",
       "  3950589515]}"
      ]
     },
     "execution_count": 63,
     "metadata": {},
     "output_type": "execute_result"
    }
   ],
   "source": [
    "dictdata"
   ]
  },
  {
   "cell_type": "code",
   "execution_count": 83,
   "metadata": {
    "collapsed": true
   },
   "outputs": [],
   "source": [
    "#convert data to list for mean average precision\n",
    "testpred = [(k,v) for k,v in dictdata.items()]"
   ]
  },
  {
   "cell_type": "code",
   "execution_count": 85,
   "metadata": {
    "collapsed": false
   },
   "outputs": [
    {
     "data": {
      "text/plain": [
       "[(4268968909,\n",
       "  [955398943,\n",
       "   2529072432,\n",
       "   1600413013,\n",
       "   1390707377,\n",
       "   1532377761,\n",
       "   2149464820,\n",
       "   268233790,\n",
       "   1203717384,\n",
       "   3632072502,\n",
       "   3849306291,\n",
       "   2130616732,\n",
       "   719337372,\n",
       "   633659090,\n",
       "   2643833505,\n",
       "   907302600,\n",
       "   2498491194,\n",
       "   2073609284,\n",
       "   3276213471,\n",
       "   1133385189,\n",
       "   2153037761,\n",
       "   771676713,\n",
       "   1361307272,\n",
       "   2401458775,\n",
       "   4203627753,\n",
       "   1488068589,\n",
       "   1448086840,\n",
       "   152418051,\n",
       "   2415873572,\n",
       "   2428145712,\n",
       "   1205670273,\n",
       "   3048578499,\n",
       "   559618821,\n",
       "   221202458,\n",
       "   1332759137,\n",
       "   1926323783,\n",
       "   3480624055,\n",
       "   602394192,\n",
       "   3581275802,\n",
       "   3643004825,\n",
       "   1776393554,\n",
       "   3183605169,\n",
       "   4080944038,\n",
       "   823015621,\n",
       "   1597380017,\n",
       "   645163767,\n",
       "   1465929077,\n",
       "   861118590,\n",
       "   915403718,\n",
       "   1044854627,\n",
       "   810618772,\n",
       "   1699561506,\n",
       "   2115491671,\n",
       "   642644408,\n",
       "   2465528861,\n",
       "   3509100603,\n",
       "   910169576,\n",
       "   1641491432,\n",
       "   741936389,\n",
       "   353933726,\n",
       "   2039358442,\n",
       "   615488222,\n",
       "   2803195749,\n",
       "   4125420656,\n",
       "   675888033,\n",
       "   1241270051,\n",
       "   3462111166,\n",
       "   3838044081,\n",
       "   3103100779,\n",
       "   3565166403,\n",
       "   4232519602,\n",
       "   753115138,\n",
       "   3199229320,\n",
       "   1116957623,\n",
       "   97217712,\n",
       "   1212947698,\n",
       "   98978060,\n",
       "   1530709861,\n",
       "   2114371180,\n",
       "   3735036412,\n",
       "   130493588,\n",
       "   3429508261,\n",
       "   3950589515])]"
      ]
     },
     "execution_count": 85,
     "metadata": {},
     "output_type": "execute_result"
    }
   ],
   "source": [
    "testpred"
   ]
  },
  {
   "cell_type": "code",
   "execution_count": 86,
   "metadata": {
    "collapsed": false
   },
   "outputs": [
    {
     "data": {
      "text/plain": [
       "{4268968909: [955398943,\n",
       "  2529072432,\n",
       "  1600413013,\n",
       "  1390707377,\n",
       "  1532377761,\n",
       "  2149464820,\n",
       "  268233790,\n",
       "  1203717384,\n",
       "  3632072502,\n",
       "  3849306291,\n",
       "  2130616732,\n",
       "  719337372,\n",
       "  633659090,\n",
       "  2643833505,\n",
       "  907302600,\n",
       "  2498491194,\n",
       "  2073609284,\n",
       "  3276213471,\n",
       "  1133385189,\n",
       "  2153037761,\n",
       "  771676713,\n",
       "  1361307272,\n",
       "  2401458775,\n",
       "  4203627753,\n",
       "  1488068589,\n",
       "  1448086840,\n",
       "  152418051,\n",
       "  2415873572,\n",
       "  2428145712,\n",
       "  1205670273,\n",
       "  3048578499,\n",
       "  559618821,\n",
       "  221202458,\n",
       "  1332759137,\n",
       "  1926323783,\n",
       "  3480624055,\n",
       "  602394192,\n",
       "  3581275802,\n",
       "  3643004825,\n",
       "  1776393554,\n",
       "  3183605169,\n",
       "  4080944038,\n",
       "  823015621,\n",
       "  1597380017,\n",
       "  645163767,\n",
       "  1465929077,\n",
       "  861118590,\n",
       "  915403718,\n",
       "  1044854627,\n",
       "  810618772,\n",
       "  1699561506,\n",
       "  2115491671,\n",
       "  642644408,\n",
       "  2465528861,\n",
       "  3509100603,\n",
       "  910169576,\n",
       "  1641491432,\n",
       "  741936389,\n",
       "  353933726,\n",
       "  2039358442,\n",
       "  615488222,\n",
       "  2803195749,\n",
       "  4125420656,\n",
       "  675888033,\n",
       "  1241270051,\n",
       "  3462111166,\n",
       "  3838044081,\n",
       "  3103100779,\n",
       "  3565166403,\n",
       "  4232519602,\n",
       "  753115138,\n",
       "  3199229320,\n",
       "  1116957623,\n",
       "  97217712,\n",
       "  1212947698,\n",
       "  98978060,\n",
       "  1530709861,\n",
       "  2114371180,\n",
       "  3735036412,\n",
       "  130493588,\n",
       "  3429508261,\n",
       "  3950589515]}"
      ]
     },
     "execution_count": 86,
     "metadata": {},
     "output_type": "execute_result"
    }
   ],
   "source": [
    "#data converterd to a list\n",
    "dictdata"
   ]
  },
  {
   "cell_type": "code",
   "execution_count": null,
   "metadata": {
    "collapsed": true
   },
   "outputs": [],
   "source": []
  },
  {
   "cell_type": "code",
   "execution_count": 87,
   "metadata": {
    "collapsed": true
   },
   "outputs": [],
   "source": [
    "#import actual(truth) test data\n",
    "true = pd.read_csv(\"Measure_Testing_top100_ocuring_eventsoverallMain3.csv\", delimiter=\",\", quoting=0)"
   ]
  },
  {
   "cell_type": "code",
   "execution_count": 88,
   "metadata": {
    "collapsed": false
   },
   "outputs": [
    {
     "data": {
      "text/html": [
       "<div style=\"max-height:1000px;max-width:1500px;overflow:auto;\">\n",
       "<table border=\"1\" class=\"dataframe\">\n",
       "  <thead>\n",
       "    <tr style=\"text-align: right;\">\n",
       "      <th></th>\n",
       "      <th>user_id</th>\n",
       "      <th>event</th>\n",
       "      <th>invited</th>\n",
       "      <th>timestamp</th>\n",
       "    </tr>\n",
       "  </thead>\n",
       "  <tbody>\n",
       "    <tr>\n",
       "      <th>0</th>\n",
       "      <td>15390083</td>\n",
       "      <td>907302600</td>\n",
       "      <td>0</td>\n",
       "      <td>2012-10-25 13:08:26.153000+00:00</td>\n",
       "    </tr>\n",
       "    <tr>\n",
       "      <th>1</th>\n",
       "      <td>15390083</td>\n",
       "      <td>2643833505</td>\n",
       "      <td>0</td>\n",
       "      <td>2012-10-25 13:08:22.098000+00:00</td>\n",
       "    </tr>\n",
       "    <tr>\n",
       "      <th>2</th>\n",
       "      <td>15390083</td>\n",
       "      <td>1361307272</td>\n",
       "      <td>0</td>\n",
       "      <td>2012-10-25 13:08:22.098000+00:00</td>\n",
       "    </tr>\n",
       "    <tr>\n",
       "      <th>3</th>\n",
       "      <td>15390083</td>\n",
       "      <td>955398943</td>\n",
       "      <td>0</td>\n",
       "      <td>2012-10-25 13:08:22.098000+00:00</td>\n",
       "    </tr>\n",
       "    <tr>\n",
       "      <th>4</th>\n",
       "      <td>15390083</td>\n",
       "      <td>771676713</td>\n",
       "      <td>0</td>\n",
       "      <td>2012-10-25 13:08:22.098000+00:00</td>\n",
       "    </tr>\n",
       "  </tbody>\n",
       "</table>\n",
       "</div>"
      ],
      "text/plain": [
       "    user_id       event  invited                         timestamp\n",
       "0  15390083   907302600        0  2012-10-25 13:08:26.153000+00:00\n",
       "1  15390083  2643833505        0  2012-10-25 13:08:22.098000+00:00\n",
       "2  15390083  1361307272        0  2012-10-25 13:08:22.098000+00:00\n",
       "3  15390083   955398943        0  2012-10-25 13:08:22.098000+00:00\n",
       "4  15390083   771676713        0  2012-10-25 13:08:22.098000+00:00"
      ]
     },
     "execution_count": 88,
     "metadata": {},
     "output_type": "execute_result"
    }
   ],
   "source": [
    "#dimension of the data\n",
    "true.head()"
   ]
  },
  {
   "cell_type": "code",
   "execution_count": 89,
   "metadata": {
    "collapsed": false
   },
   "outputs": [],
   "source": [
    "#contents of 10 recocommendations to a customer 892435980\n",
    "ss=true.loc[true['user_id'].isin([4268968909])]"
   ]
  },
  {
   "cell_type": "code",
   "execution_count": 90,
   "metadata": {
    "collapsed": false
   },
   "outputs": [
    {
     "data": {
      "text/html": [
       "<div style=\"max-height:1000px;max-width:1500px;overflow:auto;\">\n",
       "<table border=\"1\" class=\"dataframe\">\n",
       "  <thead>\n",
       "    <tr style=\"text-align: right;\">\n",
       "      <th></th>\n",
       "      <th>user_id</th>\n",
       "      <th>event</th>\n",
       "      <th>invited</th>\n",
       "      <th>timestamp</th>\n",
       "    </tr>\n",
       "  </thead>\n",
       "  <tbody>\n",
       "    <tr>\n",
       "      <th>1569</th>\n",
       "      <td>4268968909</td>\n",
       "      <td>955398943</td>\n",
       "      <td>0</td>\n",
       "      <td>2012-11-15 09:37:44.109000+00:00</td>\n",
       "    </tr>\n",
       "  </tbody>\n",
       "</table>\n",
       "</div>"
      ],
      "text/plain": [
       "         user_id      event  invited                         timestamp\n",
       "1569  4268968909  955398943        0  2012-11-15 09:37:44.109000+00:00"
      ]
     },
     "execution_count": 90,
     "metadata": {},
     "output_type": "execute_result"
    }
   ],
   "source": [
    "#first 5 contents of the file\n",
    "ss"
   ]
  },
  {
   "cell_type": "code",
   "execution_count": 91,
   "metadata": {
    "collapsed": false
   },
   "outputs": [],
   "source": [
    "#drop duplicates and keep first\n",
    "true = true.drop_duplicates()"
   ]
  },
  {
   "cell_type": "code",
   "execution_count": 92,
   "metadata": {
    "collapsed": false
   },
   "outputs": [
    {
     "data": {
      "text/plain": [
       "(1578, 4)"
      ]
     },
     "execution_count": 92,
     "metadata": {},
     "output_type": "execute_result"
    }
   ],
   "source": [
    "#dimension of data after removing duplicates\n",
    "true.shape"
   ]
  },
  {
   "cell_type": "code",
   "execution_count": 93,
   "metadata": {
    "collapsed": false
   },
   "outputs": [],
   "source": [
    "#sort the data by user_id\n",
    "true = true.sort_index(by=[\"user_id\"], ascending=[True])"
   ]
  },
  {
   "cell_type": "code",
   "execution_count": 94,
   "metadata": {
    "collapsed": false
   },
   "outputs": [
    {
     "data": {
      "text/html": [
       "<div style=\"max-height:1000px;max-width:1500px;overflow:auto;\">\n",
       "<table border=\"1\" class=\"dataframe\">\n",
       "  <thead>\n",
       "    <tr style=\"text-align: right;\">\n",
       "      <th></th>\n",
       "      <th>user_id</th>\n",
       "      <th>event</th>\n",
       "      <th>invited</th>\n",
       "      <th>timestamp</th>\n",
       "    </tr>\n",
       "  </thead>\n",
       "  <tbody>\n",
       "    <tr>\n",
       "      <th>0</th>\n",
       "      <td>15390083</td>\n",
       "      <td>907302600</td>\n",
       "      <td>0</td>\n",
       "      <td>2012-10-25 13:08:26.153000+00:00</td>\n",
       "    </tr>\n",
       "    <tr>\n",
       "      <th>1</th>\n",
       "      <td>15390083</td>\n",
       "      <td>2643833505</td>\n",
       "      <td>0</td>\n",
       "      <td>2012-10-25 13:08:22.098000+00:00</td>\n",
       "    </tr>\n",
       "    <tr>\n",
       "      <th>2</th>\n",
       "      <td>15390083</td>\n",
       "      <td>1361307272</td>\n",
       "      <td>0</td>\n",
       "      <td>2012-10-25 13:08:22.098000+00:00</td>\n",
       "    </tr>\n",
       "    <tr>\n",
       "      <th>3</th>\n",
       "      <td>15390083</td>\n",
       "      <td>955398943</td>\n",
       "      <td>0</td>\n",
       "      <td>2012-10-25 13:08:22.098000+00:00</td>\n",
       "    </tr>\n",
       "    <tr>\n",
       "      <th>4</th>\n",
       "      <td>15390083</td>\n",
       "      <td>771676713</td>\n",
       "      <td>0</td>\n",
       "      <td>2012-10-25 13:08:22.098000+00:00</td>\n",
       "    </tr>\n",
       "  </tbody>\n",
       "</table>\n",
       "</div>"
      ],
      "text/plain": [
       "    user_id       event  invited                         timestamp\n",
       "0  15390083   907302600        0  2012-10-25 13:08:26.153000+00:00\n",
       "1  15390083  2643833505        0  2012-10-25 13:08:22.098000+00:00\n",
       "2  15390083  1361307272        0  2012-10-25 13:08:22.098000+00:00\n",
       "3  15390083   955398943        0  2012-10-25 13:08:22.098000+00:00\n",
       "4  15390083   771676713        0  2012-10-25 13:08:22.098000+00:00"
      ]
     },
     "execution_count": 94,
     "metadata": {},
     "output_type": "execute_result"
    }
   ],
   "source": [
    "true.head()"
   ]
  },
  {
   "cell_type": "code",
   "execution_count": 95,
   "metadata": {
    "collapsed": false
   },
   "outputs": [],
   "source": [
    "#convert the data to dictionary\n",
    "dictTrue = {k: list(v) for k,v in ss.groupby(\"user_id\")[\"event\"]}"
   ]
  },
  {
   "cell_type": "code",
   "execution_count": 96,
   "metadata": {
    "collapsed": false
   },
   "outputs": [
    {
     "data": {
      "text/plain": [
       "{4268968909: [955398943]}"
      ]
     },
     "execution_count": 96,
     "metadata": {},
     "output_type": "execute_result"
    }
   ],
   "source": [
    "dictTrue"
   ]
  },
  {
   "cell_type": "code",
   "execution_count": 97,
   "metadata": {
    "collapsed": false
   },
   "outputs": [],
   "source": [
    "#convert the data to to list for MAP\n",
    "testTrue = [(k,v) for k,v in dictTrue.items()]"
   ]
  },
  {
   "cell_type": "code",
   "execution_count": 98,
   "metadata": {
    "collapsed": false
   },
   "outputs": [
    {
     "data": {
      "text/plain": [
       "[(4268968909, [955398943])]"
      ]
     },
     "execution_count": 98,
     "metadata": {},
     "output_type": "execute_result"
    }
   ],
   "source": [
    "testTrue"
   ]
  },
  {
   "cell_type": "code",
   "execution_count": 99,
   "metadata": {
    "collapsed": false
   },
   "outputs": [
    {
     "data": {
      "text/plain": [
       "[(4268968909,\n",
       "  [955398943,\n",
       "   2529072432,\n",
       "   1600413013,\n",
       "   1390707377,\n",
       "   1532377761,\n",
       "   2149464820,\n",
       "   268233790,\n",
       "   1203717384,\n",
       "   3632072502,\n",
       "   3849306291,\n",
       "   2130616732,\n",
       "   719337372,\n",
       "   633659090,\n",
       "   2643833505,\n",
       "   907302600,\n",
       "   2498491194,\n",
       "   2073609284,\n",
       "   3276213471,\n",
       "   1133385189,\n",
       "   2153037761,\n",
       "   771676713,\n",
       "   1361307272,\n",
       "   2401458775,\n",
       "   4203627753,\n",
       "   1488068589,\n",
       "   1448086840,\n",
       "   152418051,\n",
       "   2415873572,\n",
       "   2428145712,\n",
       "   1205670273,\n",
       "   3048578499,\n",
       "   559618821,\n",
       "   221202458,\n",
       "   1332759137,\n",
       "   1926323783,\n",
       "   3480624055,\n",
       "   602394192,\n",
       "   3581275802,\n",
       "   3643004825,\n",
       "   1776393554,\n",
       "   3183605169,\n",
       "   4080944038,\n",
       "   823015621,\n",
       "   1597380017,\n",
       "   645163767,\n",
       "   1465929077,\n",
       "   861118590,\n",
       "   915403718,\n",
       "   1044854627,\n",
       "   810618772,\n",
       "   1699561506,\n",
       "   2115491671,\n",
       "   642644408,\n",
       "   2465528861,\n",
       "   3509100603,\n",
       "   910169576,\n",
       "   1641491432,\n",
       "   741936389,\n",
       "   353933726,\n",
       "   2039358442,\n",
       "   615488222,\n",
       "   2803195749,\n",
       "   4125420656,\n",
       "   675888033,\n",
       "   1241270051,\n",
       "   3462111166,\n",
       "   3838044081,\n",
       "   3103100779,\n",
       "   3565166403,\n",
       "   4232519602,\n",
       "   753115138,\n",
       "   3199229320,\n",
       "   1116957623,\n",
       "   97217712,\n",
       "   1212947698,\n",
       "   98978060,\n",
       "   1530709861,\n",
       "   2114371180,\n",
       "   3735036412,\n",
       "   130493588,\n",
       "   3429508261,\n",
       "   3950589515])]"
      ]
     },
     "execution_count": 99,
     "metadata": {},
     "output_type": "execute_result"
    }
   ],
   "source": [
    "testpred"
   ]
  },
  {
   "cell_type": "code",
   "execution_count": 102,
   "metadata": {
    "collapsed": false
   },
   "outputs": [
    {
     "data": {
      "text/plain": [
       "0.0"
      ]
     },
     "execution_count": 102,
     "metadata": {},
     "output_type": "execute_result"
    }
   ],
   "source": [
    "#mean average precison at k=200\n",
    "metrics.mapk([testTrue],[testpred],2)"
   ]
  },
  {
   "cell_type": "code",
   "execution_count": null,
   "metadata": {
    "collapsed": false
   },
   "outputs": [],
   "source": []
  },
  {
   "cell_type": "code",
   "execution_count": null,
   "metadata": {
    "collapsed": true
   },
   "outputs": [],
   "source": []
  }
 ],
 "metadata": {
  "kernelspec": {
   "display_name": "Python 2",
   "language": "python",
   "name": "python2"
  },
  "language_info": {
   "codemirror_mode": {
    "name": "ipython",
    "version": 2
   },
   "file_extension": ".py",
   "mimetype": "text/x-python",
   "name": "python",
   "nbconvert_exporter": "python",
   "pygments_lexer": "ipython2",
   "version": "2.7.10"
  }
 },
 "nbformat": 4,
 "nbformat_minor": 0
}
